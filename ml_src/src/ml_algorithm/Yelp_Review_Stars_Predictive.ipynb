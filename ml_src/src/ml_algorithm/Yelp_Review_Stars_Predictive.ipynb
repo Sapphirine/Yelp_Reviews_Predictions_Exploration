{
 "cells": [
  {
   "cell_type": "markdown",
   "metadata": {},
   "source": [
    "# Machine Learning Mission: Predict Review Star for the Given Yelp Review"
   ]
  },
  {
   "cell_type": "code",
   "execution_count": 1,
   "metadata": {
    "collapsed": false
   },
   "outputs": [
    {
     "name": "stdout",
     "output_type": "stream",
     "text": [
      "0.19.1\n"
     ]
    },
    {
     "name": "stderr",
     "output_type": "stream",
     "text": [
      "/usr/local/lib/python2.7/site-packages/IPython/core/interactiveshell.py:2881: FutureWarning: \n",
      "mpl_style had been deprecated and will be removed in a future version.\n",
      "Use `matplotlib.pyplot.style.use` instead.\n",
      "\n",
      "  exec(code_obj, self.user_global_ns, self.user_ns)\n"
     ]
    }
   ],
   "source": [
    "import os\n",
    "import numpy as np\n",
    "import pandas as pd\n",
    "import matplotlib.pyplot as plt\n",
    "from pandas import Series, DataFrame\n",
    "\n",
    "%matplotlib inline\n",
    "pd.options.display.mpl_style = 'default'\n",
    "\n",
    "pd.set_option('display.max_columns', 36)\n",
    "print pd.__version__"
   ]
  },
  {
   "cell_type": "markdown",
   "metadata": {},
   "source": [
    "First we'll use NLTK to preprocess and tokenize text data"
   ]
  },
  {
   "cell_type": "code",
   "execution_count": 2,
   "metadata": {
    "collapsed": false
   },
   "outputs": [],
   "source": [
    "import nltk\n",
    "import string\n",
    "from nltk import word_tokenize\n",
    "from nltk.util import bigrams, trigrams\n",
    "from nltk.corpus import stopwords\n",
    "from nltk.stem.porter import PorterStemmer\n",
    "from collections import Counter\n"
   ]
  },
  {
   "cell_type": "code",
   "execution_count": 3,
   "metadata": {
    "collapsed": false
   },
   "outputs": [],
   "source": [
    "POSITIVE_WORDS = set([line.strip() for line in open('/Users/tony/Documents/positive-words.txt', 'r')])\n",
    "NEGATIVE_WORDS = set([line.strip() for line in open('/Users/tony/Documents/negative-words.txt', 'r')])\n",
    "NLTK_STOPWORDS = set(stopwords.words('english'))\n",
    "MORE_STOPWORDS = set([line.strip() for line in open('/Users/tony/Documents/more_stopwords.txt', 'r')])\n",
    "\n",
    "def remove_numbers_in_string(s):\n",
    "    return s.translate(None, string.digits)\n",
    "\n",
    "def lowercase_remove_punctuation(s):\n",
    "    s = s.lower()\n",
    "    s = s.translate(None, string.punctuation)\n",
    "    return s\n",
    "    \n",
    "def remove_stopwords(s):\n",
    "    token_list = nltk.word_tokenize(s)\n",
    "    exclude_stopwords = lambda token : token not in NLTK_STOPWORDS\n",
    "    return ' '.join(filter(exclude_stopwords, token_list))\n",
    "\n",
    "def filter_out_more_stopwords(token_list):\n",
    "    return filter(lambda tok : tok not in MORE_STOPWORDS, token_list)\n",
    "\n",
    "def stem_token_list(token_list):\n",
    "    STEMMER = PorterStemmer()\n",
    "    return [STEMMER.stem(tok.decode('utf-8')) for tok in token_list]\n",
    "\n",
    "def restring_tokens(token_list):\n",
    "    return ' '.join(token_list)\n",
    "\n",
    "def lowercase_remove_punctuation_and_numbers_and_tokenize_and_filter_more_stopwords_and_stem_and_restring(s):\n",
    "    s = remove_numbers_in_string(s)\n",
    "    s = lowercase_remove_punctuation(s)\n",
    "    s = remove_stopwords(s)\n",
    "    token_list = nltk.word_tokenize(s)\n",
    "    token_list = filter_out_more_stopwords(token_list)\n",
    "    token_list = stem_token_list(token_list)\n",
    "    return restring_tokens(token_list)"
   ]
  },
  {
   "cell_type": "markdown",
   "metadata": {},
   "source": [
    "Use TURBO dataset from DataWrangling and EDA notebooks"
   ]
  },
  {
   "cell_type": "code",
   "execution_count": 4,
   "metadata": {
    "collapsed": false
   },
   "outputs": [
    {
     "data": {
      "text/html": [
       "<div>\n",
       "<table border=\"1\" class=\"dataframe\">\n",
       "  <thead>\n",
       "    <tr style=\"text-align: right;\">\n",
       "      <th></th>\n",
       "      <th>attributes</th>\n",
       "      <th>business_id</th>\n",
       "      <th>categories</th>\n",
       "      <th>city</th>\n",
       "      <th>full_address</th>\n",
       "      <th>hours</th>\n",
       "      <th>latitude</th>\n",
       "      <th>longitude</th>\n",
       "      <th>business_name</th>\n",
       "      <th>neighborhoods</th>\n",
       "      <th>open</th>\n",
       "      <th>business_review_count</th>\n",
       "      <th>business_stars</th>\n",
       "      <th>state</th>\n",
       "      <th>type_x</th>\n",
       "      <th>review_date</th>\n",
       "      <th>review_id</th>\n",
       "      <th>review_stars</th>\n",
       "      <th>review_text</th>\n",
       "      <th>type_y</th>\n",
       "      <th>user_id</th>\n",
       "      <th>review_votes</th>\n",
       "      <th>average_stars</th>\n",
       "      <th>compliments</th>\n",
       "      <th>elite</th>\n",
       "      <th>fans</th>\n",
       "      <th>friends</th>\n",
       "      <th>user_name</th>\n",
       "      <th>user_review_count</th>\n",
       "      <th>type_x.1</th>\n",
       "      <th>user_votes</th>\n",
       "      <th>yelping_since</th>\n",
       "      <th>tip_date</th>\n",
       "      <th>likes</th>\n",
       "      <th>tip_text</th>\n",
       "      <th>type_y.1</th>\n",
       "    </tr>\n",
       "  </thead>\n",
       "  <tbody>\n",
       "    <tr>\n",
       "      <th>0</th>\n",
       "      <td>{u'Take-out': True, u'Accepts Credit Cards': T...</td>\n",
       "      <td>x1EtuyQAd1NcJ-Esvtop3w</td>\n",
       "      <td>[Pizza, Restaurants]</td>\n",
       "      <td>Pittsburgh</td>\n",
       "      <td>2128 Broadway Ave\\nBeechview\\nPittsburgh, PA 1...</td>\n",
       "      <td>{u'Monday': {u'close': u'22:00', u'open': u'11...</td>\n",
       "      <td>40.404135</td>\n",
       "      <td>-80.030460</td>\n",
       "      <td>SLICE on Broadway</td>\n",
       "      <td>[Beechview]</td>\n",
       "      <td>True</td>\n",
       "      <td>77</td>\n",
       "      <td>4.0</td>\n",
       "      <td>PA</td>\n",
       "      <td>business</td>\n",
       "      <td>2015-12-16</td>\n",
       "      <td>9tAMbWawjDh14mhzOii_3Q</td>\n",
       "      <td>4</td>\n",
       "      <td>The pizza is arguably the best in the city.   ...</td>\n",
       "      <td>review</td>\n",
       "      <td>qiczib2fO_1VBG8IoCGvVg</td>\n",
       "      <td>{u'funny': 0, u'useful': 0, u'cool': 0}</td>\n",
       "      <td>3.10</td>\n",
       "      <td>{}</td>\n",
       "      <td>[]</td>\n",
       "      <td>0</td>\n",
       "      <td>[]</td>\n",
       "      <td>Kathy</td>\n",
       "      <td>52</td>\n",
       "      <td>user</td>\n",
       "      <td>{u'funny': 8, u'useful': 17, u'cool': 5}</td>\n",
       "      <td>2015-11</td>\n",
       "      <td>2015-12-14</td>\n",
       "      <td>0</td>\n",
       "      <td>Friendly staff. Very good pie.  Two thumbs up.</td>\n",
       "      <td>tip</td>\n",
       "    </tr>\n",
       "    <tr>\n",
       "      <th>1</th>\n",
       "      <td>{}</td>\n",
       "      <td>6c2pWWtdQZA3w5raX6k-dg</td>\n",
       "      <td>[Barbers, Beauty &amp; Spas]</td>\n",
       "      <td>Homestead</td>\n",
       "      <td>3510 Main St\\nHomestead, PA 15120</td>\n",
       "      <td>{u'Tuesday': {u'close': u'17:30', u'open': u'0...</td>\n",
       "      <td>40.385508</td>\n",
       "      <td>-79.903491</td>\n",
       "      <td>Carmine's Barber Shop</td>\n",
       "      <td>[]</td>\n",
       "      <td>True</td>\n",
       "      <td>3</td>\n",
       "      <td>3.5</td>\n",
       "      <td>PA</td>\n",
       "      <td>business</td>\n",
       "      <td>2014-04-23</td>\n",
       "      <td>OdwBV3AkP9sm3AxgDmuX2A</td>\n",
       "      <td>5</td>\n",
       "      <td>Great place to get a basic haircut at a fair p...</td>\n",
       "      <td>review</td>\n",
       "      <td>I_47G-R2_egp7ME5u_ltew</td>\n",
       "      <td>{u'funny': 0, u'useful': 0, u'cool': 0}</td>\n",
       "      <td>3.17</td>\n",
       "      <td>{u'note': 1, u'hot': 1}</td>\n",
       "      <td>[]</td>\n",
       "      <td>1</td>\n",
       "      <td>[DsN2dJ6SnTEACr1qC5zpGg, UD7Y1CqfY6mDmRwIuCf6n...</td>\n",
       "      <td>Kevin</td>\n",
       "      <td>52</td>\n",
       "      <td>user</td>\n",
       "      <td>{u'funny': 9, u'useful': 54, u'cool': 11}</td>\n",
       "      <td>2011-11</td>\n",
       "      <td>2014-07-14</td>\n",
       "      <td>0</td>\n",
       "      <td>I've been told that they do open at 4 AM and i...</td>\n",
       "      <td>tip</td>\n",
       "    </tr>\n",
       "    <tr>\n",
       "      <th>2</th>\n",
       "      <td>{u'Alcohol': u'beer_and_wine', u'Noise Level':...</td>\n",
       "      <td>Q4ULAiIE2qCA4RYplCTrUQ</td>\n",
       "      <td>[Bars, Restaurants, Nightlife, American (New),...</td>\n",
       "      <td>Pittsburgh</td>\n",
       "      <td>46 18th St\\nStrip District\\nPittsburgh, PA 15222</td>\n",
       "      <td>{u'Monday': {u'close': u'00:00', u'open': u'11...</td>\n",
       "      <td>40.450714</td>\n",
       "      <td>-79.985514</td>\n",
       "      <td>Primanti Bros.</td>\n",
       "      <td>[Strip District]</td>\n",
       "      <td>True</td>\n",
       "      <td>927</td>\n",
       "      <td>3.5</td>\n",
       "      <td>PA</td>\n",
       "      <td>business</td>\n",
       "      <td>2014-03-29</td>\n",
       "      <td>Hemfg9NKZ24bKkGvqnqs5g</td>\n",
       "      <td>4</td>\n",
       "      <td>I love Primantis and this location has some ch...</td>\n",
       "      <td>review</td>\n",
       "      <td>I_47G-R2_egp7ME5u_ltew</td>\n",
       "      <td>{u'funny': 0, u'useful': 0, u'cool': 0}</td>\n",
       "      <td>3.17</td>\n",
       "      <td>{u'note': 1, u'hot': 1}</td>\n",
       "      <td>[]</td>\n",
       "      <td>1</td>\n",
       "      <td>[DsN2dJ6SnTEACr1qC5zpGg, UD7Y1CqfY6mDmRwIuCf6n...</td>\n",
       "      <td>Kevin</td>\n",
       "      <td>52</td>\n",
       "      <td>user</td>\n",
       "      <td>{u'funny': 9, u'useful': 54, u'cool': 11}</td>\n",
       "      <td>2011-11</td>\n",
       "      <td>2015-10-21</td>\n",
       "      <td>0</td>\n",
       "      <td>They take credit cards now!</td>\n",
       "      <td>tip</td>\n",
       "    </tr>\n",
       "    <tr>\n",
       "      <th>3</th>\n",
       "      <td>{u'Take-out': True, u'Accepts Credit Cards': T...</td>\n",
       "      <td>Zg5JB5GBqhmxt9W7tFKN7w</td>\n",
       "      <td>[American (Traditional), Restaurants]</td>\n",
       "      <td>Pittsburgh</td>\n",
       "      <td>2302 E Carson St\\nSouth Side\\nPittsburgh, PA 1...</td>\n",
       "      <td>{u'Monday': {u'close': u'02:00', u'open': u'16...</td>\n",
       "      <td>40.428142</td>\n",
       "      <td>-79.972838</td>\n",
       "      <td>The Library</td>\n",
       "      <td>[South Side]</td>\n",
       "      <td>True</td>\n",
       "      <td>153</td>\n",
       "      <td>3.5</td>\n",
       "      <td>PA</td>\n",
       "      <td>business</td>\n",
       "      <td>2015-10-20</td>\n",
       "      <td>920qE9rMfb3awuaOgFBIdA</td>\n",
       "      <td>4</td>\n",
       "      <td>This is definitely one of the better wing join...</td>\n",
       "      <td>review</td>\n",
       "      <td>I_47G-R2_egp7ME5u_ltew</td>\n",
       "      <td>{u'funny': 0, u'useful': 0, u'cool': 0}</td>\n",
       "      <td>3.17</td>\n",
       "      <td>{u'note': 1, u'hot': 1}</td>\n",
       "      <td>[]</td>\n",
       "      <td>1</td>\n",
       "      <td>[DsN2dJ6SnTEACr1qC5zpGg, UD7Y1CqfY6mDmRwIuCf6n...</td>\n",
       "      <td>Kevin</td>\n",
       "      <td>52</td>\n",
       "      <td>user</td>\n",
       "      <td>{u'funny': 9, u'useful': 54, u'cool': 11}</td>\n",
       "      <td>2011-11</td>\n",
       "      <td>2014-08-11</td>\n",
       "      <td>0</td>\n",
       "      <td>Pretty good AYCE wings special at $12 all day ...</td>\n",
       "      <td>tip</td>\n",
       "    </tr>\n",
       "    <tr>\n",
       "      <th>4</th>\n",
       "      <td>{u'Take-out': True, u'Accepts Credit Cards': T...</td>\n",
       "      <td>jmquanz2qdn_IEgxmn0wsQ</td>\n",
       "      <td>[Burgers, Restaurants]</td>\n",
       "      <td>Homestead</td>\n",
       "      <td>299 W Bridge St\\nHomestead\\nHomestead, PA 15120</td>\n",
       "      <td>{u'Monday': {u'close': u'22:00', u'open': u'11...</td>\n",
       "      <td>40.407153</td>\n",
       "      <td>-79.917764</td>\n",
       "      <td>Burgatory</td>\n",
       "      <td>[Homestead]</td>\n",
       "      <td>True</td>\n",
       "      <td>204</td>\n",
       "      <td>4.0</td>\n",
       "      <td>PA</td>\n",
       "      <td>business</td>\n",
       "      <td>2014-04-28</td>\n",
       "      <td>svD5bs2ghmE9wc1aBRONkA</td>\n",
       "      <td>4</td>\n",
       "      <td>Great addition to the Waterfront and at a loca...</td>\n",
       "      <td>review</td>\n",
       "      <td>I_47G-R2_egp7ME5u_ltew</td>\n",
       "      <td>{u'funny': 0, u'useful': 1, u'cool': 0}</td>\n",
       "      <td>3.17</td>\n",
       "      <td>{u'note': 1, u'hot': 1}</td>\n",
       "      <td>[]</td>\n",
       "      <td>1</td>\n",
       "      <td>[DsN2dJ6SnTEACr1qC5zpGg, UD7Y1CqfY6mDmRwIuCf6n...</td>\n",
       "      <td>Kevin</td>\n",
       "      <td>52</td>\n",
       "      <td>user</td>\n",
       "      <td>{u'funny': 9, u'useful': 54, u'cool': 11}</td>\n",
       "      <td>2011-11</td>\n",
       "      <td>2016-01-21</td>\n",
       "      <td>0</td>\n",
       "      <td>The Piggy Butter and Jelly Burger is pretty aw...</td>\n",
       "      <td>tip</td>\n",
       "    </tr>\n",
       "  </tbody>\n",
       "</table>\n",
       "</div>"
      ],
      "text/plain": [
       "                                          attributes             business_id  \\\n",
       "0  {u'Take-out': True, u'Accepts Credit Cards': T...  x1EtuyQAd1NcJ-Esvtop3w   \n",
       "1                                                 {}  6c2pWWtdQZA3w5raX6k-dg   \n",
       "2  {u'Alcohol': u'beer_and_wine', u'Noise Level':...  Q4ULAiIE2qCA4RYplCTrUQ   \n",
       "3  {u'Take-out': True, u'Accepts Credit Cards': T...  Zg5JB5GBqhmxt9W7tFKN7w   \n",
       "4  {u'Take-out': True, u'Accepts Credit Cards': T...  jmquanz2qdn_IEgxmn0wsQ   \n",
       "\n",
       "                                          categories        city  \\\n",
       "0                               [Pizza, Restaurants]  Pittsburgh   \n",
       "1                           [Barbers, Beauty & Spas]   Homestead   \n",
       "2  [Bars, Restaurants, Nightlife, American (New),...  Pittsburgh   \n",
       "3              [American (Traditional), Restaurants]  Pittsburgh   \n",
       "4                             [Burgers, Restaurants]   Homestead   \n",
       "\n",
       "                                        full_address  \\\n",
       "0  2128 Broadway Ave\\nBeechview\\nPittsburgh, PA 1...   \n",
       "1                  3510 Main St\\nHomestead, PA 15120   \n",
       "2   46 18th St\\nStrip District\\nPittsburgh, PA 15222   \n",
       "3  2302 E Carson St\\nSouth Side\\nPittsburgh, PA 1...   \n",
       "4    299 W Bridge St\\nHomestead\\nHomestead, PA 15120   \n",
       "\n",
       "                                               hours   latitude  longitude  \\\n",
       "0  {u'Monday': {u'close': u'22:00', u'open': u'11...  40.404135 -80.030460   \n",
       "1  {u'Tuesday': {u'close': u'17:30', u'open': u'0...  40.385508 -79.903491   \n",
       "2  {u'Monday': {u'close': u'00:00', u'open': u'11...  40.450714 -79.985514   \n",
       "3  {u'Monday': {u'close': u'02:00', u'open': u'16...  40.428142 -79.972838   \n",
       "4  {u'Monday': {u'close': u'22:00', u'open': u'11...  40.407153 -79.917764   \n",
       "\n",
       "           business_name     neighborhoods  open  business_review_count  \\\n",
       "0      SLICE on Broadway       [Beechview]  True                     77   \n",
       "1  Carmine's Barber Shop                []  True                      3   \n",
       "2         Primanti Bros.  [Strip District]  True                    927   \n",
       "3            The Library      [South Side]  True                    153   \n",
       "4              Burgatory       [Homestead]  True                    204   \n",
       "\n",
       "   business_stars state    type_x review_date               review_id  \\\n",
       "0             4.0    PA  business  2015-12-16  9tAMbWawjDh14mhzOii_3Q   \n",
       "1             3.5    PA  business  2014-04-23  OdwBV3AkP9sm3AxgDmuX2A   \n",
       "2             3.5    PA  business  2014-03-29  Hemfg9NKZ24bKkGvqnqs5g   \n",
       "3             3.5    PA  business  2015-10-20  920qE9rMfb3awuaOgFBIdA   \n",
       "4             4.0    PA  business  2014-04-28  svD5bs2ghmE9wc1aBRONkA   \n",
       "\n",
       "   review_stars                                        review_text  type_y  \\\n",
       "0             4  The pizza is arguably the best in the city.   ...  review   \n",
       "1             5  Great place to get a basic haircut at a fair p...  review   \n",
       "2             4  I love Primantis and this location has some ch...  review   \n",
       "3             4  This is definitely one of the better wing join...  review   \n",
       "4             4  Great addition to the Waterfront and at a loca...  review   \n",
       "\n",
       "                  user_id                             review_votes  \\\n",
       "0  qiczib2fO_1VBG8IoCGvVg  {u'funny': 0, u'useful': 0, u'cool': 0}   \n",
       "1  I_47G-R2_egp7ME5u_ltew  {u'funny': 0, u'useful': 0, u'cool': 0}   \n",
       "2  I_47G-R2_egp7ME5u_ltew  {u'funny': 0, u'useful': 0, u'cool': 0}   \n",
       "3  I_47G-R2_egp7ME5u_ltew  {u'funny': 0, u'useful': 0, u'cool': 0}   \n",
       "4  I_47G-R2_egp7ME5u_ltew  {u'funny': 0, u'useful': 1, u'cool': 0}   \n",
       "\n",
       "   average_stars              compliments elite  fans  \\\n",
       "0           3.10                       {}    []     0   \n",
       "1           3.17  {u'note': 1, u'hot': 1}    []     1   \n",
       "2           3.17  {u'note': 1, u'hot': 1}    []     1   \n",
       "3           3.17  {u'note': 1, u'hot': 1}    []     1   \n",
       "4           3.17  {u'note': 1, u'hot': 1}    []     1   \n",
       "\n",
       "                                             friends user_name  \\\n",
       "0                                                 []     Kathy   \n",
       "1  [DsN2dJ6SnTEACr1qC5zpGg, UD7Y1CqfY6mDmRwIuCf6n...     Kevin   \n",
       "2  [DsN2dJ6SnTEACr1qC5zpGg, UD7Y1CqfY6mDmRwIuCf6n...     Kevin   \n",
       "3  [DsN2dJ6SnTEACr1qC5zpGg, UD7Y1CqfY6mDmRwIuCf6n...     Kevin   \n",
       "4  [DsN2dJ6SnTEACr1qC5zpGg, UD7Y1CqfY6mDmRwIuCf6n...     Kevin   \n",
       "\n",
       "   user_review_count type_x.1                                 user_votes  \\\n",
       "0                 52     user   {u'funny': 8, u'useful': 17, u'cool': 5}   \n",
       "1                 52     user  {u'funny': 9, u'useful': 54, u'cool': 11}   \n",
       "2                 52     user  {u'funny': 9, u'useful': 54, u'cool': 11}   \n",
       "3                 52     user  {u'funny': 9, u'useful': 54, u'cool': 11}   \n",
       "4                 52     user  {u'funny': 9, u'useful': 54, u'cool': 11}   \n",
       "\n",
       "  yelping_since    tip_date  likes  \\\n",
       "0       2015-11  2015-12-14      0   \n",
       "1       2011-11  2014-07-14      0   \n",
       "2       2011-11  2015-10-21      0   \n",
       "3       2011-11  2014-08-11      0   \n",
       "4       2011-11  2016-01-21      0   \n",
       "\n",
       "                                            tip_text type_y.1  \n",
       "0     Friendly staff. Very good pie.  Two thumbs up.      tip  \n",
       "1  I've been told that they do open at 4 AM and i...      tip  \n",
       "2                        They take credit cards now!      tip  \n",
       "3  Pretty good AYCE wings special at $12 all day ...      tip  \n",
       "4  The Piggy Butter and Jelly Burger is pretty aw...      tip  "
      ]
     },
     "execution_count": 4,
     "metadata": {},
     "output_type": "execute_result"
    }
   ],
   "source": [
    "TURBO_DF = pd.read_csv('/Users/tony/Documents/TURBO_p1.csv')\n",
    "TURBO_DF.head()"
   ]
  },
  {
   "cell_type": "code",
   "execution_count": 5,
   "metadata": {
    "collapsed": false
   },
   "outputs": [
    {
     "name": "stdout",
     "output_type": "stream",
     "text": [
      "The pizza is arguably the best in the city.   Funny thing is, I would have passed this place right by had a friend who lives locally not recommended it.  Oh, and did I mention the Italian hoagie? One word BOMB!   You will not be disappointed eating here.\n",
      "\n",
      "Great place to get a basic haircut at a fair price! The barbers are like local historians and seem to know something about everybody in town. You might have to wait a bit sometimes to get a haircut, seeing as there is normally only one or two guys working, but the wait normally goes by fast.\n",
      "\n",
      "I love Primantis and this location has some characters working there. My only problem with this location is that their fries on the sandwiches almost always seem to be undercooked.\n",
      "\n",
      "This is definitely one of the better wing joints in Pittsburgh and its great that they have a wing night on Sunday (and another wing night on Tuesday!)! Now their wing night is AYCE for $12.50 currently, which is a decent deal, but you'll probably need to put away at least 18 to make it worth it compared to other deals. Of course one of the good parts about AYCE is you can try to try many of their delicious wing flavors, but they do have a five wing minimum per flavor and will only allow you to order 10 wings up front. After that, you have to order in 5 wing batches. Blue cheese and ranch are reasonable at 50 cents each. One of the really cool things about their wing night as well is that you can get the wings naked or breaded! I don't know of another place that gives you this option.\n",
      "\n",
      "I have been here a few times for wing nights, nothing else, and therefore have tried a number of the flavors. The sauces I can recommend and which are probably their hottest flavors are Dante's Inferno and Cajun (which is wet). Both are delicious and actually really aren't that hot at all, but taste great. Next up, spicy BBQ, Buffalo Ranch, and Buffalo Bleu are all pretty solid as well. An OK flavor would be their Buffalo Garlic Parmesan, which is nice, but it uses shredded Parmesan, instead of sprinkled, and it is not caked on the wing like you would find at Fat Heads. I would not recommend their Thai sauce if you are looking for that sweet and spicy chili Thai flavor, as it taste more like honey BBQ (which is OK, but not what I am expecting).\n",
      "\n",
      "As you can tell, I only have done the wings here, because I have only come on AYCE wing nights and they are good wings. They rank up there with, but maybe not quite as good as Bigham's Tavern and Fat Heads. The rest of menu sounds like its pretty good and maybe one day I'll venture off the beaten path, but I really like the wings. As for other takeaways, this place is pretty easy to find a table on Sunday nights and if you can get here for happy hour you can get some good drinks at great prices.\n",
      "\n",
      "Great addition to the Waterfront and at a location that has not faired well for other restaurants. Checked it out this past opening weekend and it was really nice looking. We had an hour and a half wait, but they have the NoWait app to make the line waiting better, which allowed us to go bike riding for a bit along the river while we waited.  We shared the nachos as an appetizer, which was pretty solid. The I had a custom burger with fries, which were delicious. Lastly, I had to get fluffer nutter butter shake....mmmmm! As for negatives, besides the wait (which was expected), the service could have been a bit more attentive, but seeing as this was opening weekend I'm sure the service will get better.\n",
      "\n"
     ]
    }
   ],
   "source": [
    "for idx in range(5):\n",
    "    print TURBO_DF.review_text[idx]\n",
    "    print"
   ]
  },
  {
   "cell_type": "code",
   "execution_count": 6,
   "metadata": {
    "collapsed": false
   },
   "outputs": [
    {
     "name": "stdout",
     "output_type": "stream",
     "text": [
      "CPU times: user 6min 27s, sys: 1.72 s, total: 6min 29s\n",
      "Wall time: 6min 29s\n",
      "pizza arguabl citi funni thing pass place friend live local recommend mention italian hoagi word bomb disappoint eat\n",
      "\n",
      "great place basic haircut fair price barber local historian town wait bit haircut guy work wait fast\n",
      "\n",
      "love primanti locat charact work problem locat fri sandwich undercook\n",
      "\n",
      "wing joint pittsburgh great wing night sunday wing night tuesday wing night ayc decent deal youll put make worth compar deal good part ayc delici wing flavor wing minimum flavor order wing front order wing batch blue chees ranch reason cent cool thing wing night wing nake bread dont place option time wing night number flavor sauc recommend hottest flavor dant inferno cajun wet delici arent hot tast great spici bbq buffalo ranch buffalo bleu pretti solid flavor buffalo garlic parmesan nice shred parmesan sprinkl cake wing find fat head recommend thai sauc sweet spici chili thai flavor tast honey bbq expect wing ayc wing night good wing rank good bigham tavern fat head rest menu sound pretti good day ill ventur beaten path wing takeaway place pretti easi find tabl sunday night happi hour good drink great price\n",
      "\n",
      "great addit waterfront locat fair restaur check past open weekend nice hour half wait nowait app make line wait allow bike ride bit river wait share nacho appet pretti solid custom burger fri delici lastli fluffer nutter butter shakemmmmm neg wait expect servic bit attent open weekend im servic\n",
      "\n"
     ]
    },
    {
     "name": "stderr",
     "output_type": "stream",
     "text": [
      "/usr/local/lib/python2.7/site-packages/ipykernel/__main__.py:1: SettingWithCopyWarning: \n",
      "A value is trying to be set on a copy of a slice from a DataFrame.\n",
      "Try using .loc[row_indexer,col_indexer] = value instead\n",
      "\n",
      "See the caveats in the documentation: http://pandas.pydata.org/pandas-docs/stable/indexing.html#indexing-view-versus-copy\n",
      "  if __name__ == '__main__':\n"
     ]
    }
   ],
   "source": [
    "initial_features = ['business_id', 'business_name', 'review_stars', 'review_text']\n",
    "df_with_initial_features_and_preprocessed_review_text = TURBO_DF[initial_features]\n",
    "%time df_with_initial_features_and_preprocessed_review_text['review_text'] = df_with_initial_features_and_preprocessed_review_text['review_text'].apply(lowercase_remove_punctuation_and_numbers_and_tokenize_and_filter_more_stopwords_and_stem_and_restring)\n",
    "\n",
    "for idx in range(5):\n",
    "    print df_with_initial_features_and_preprocessed_review_text.review_text[idx]\n",
    "    print"
   ]
  },
  {
   "cell_type": "markdown",
   "metadata": {},
   "source": [
    "Next, import sklearn functions and partition the data into training and test subsets"
   ]
  },
  {
   "cell_type": "code",
   "execution_count": 7,
   "metadata": {
    "collapsed": false
   },
   "outputs": [],
   "source": [
    "from sklearn.model_selection import train_test_split\n",
    "from sklearn.feature_extraction.text import CountVectorizer, TfidfVectorizer\n",
    "from sklearn.naive_bayes import *\n",
    "from sklearn.svm import SVC\n",
    "from sklearn.linear_model import LogisticRegression\n",
    "from sklearn.multiclass import OneVsRestClassifier\n",
    "from sklearn.ensemble import RandomForestClassifier, AdaBoostClassifier\n",
    "from sklearn import metrics\n",
    "from sklearn.metrics import confusion_matrix, classification_report, precision_score, recall_score, roc_auc_score"
   ]
  },
  {
   "cell_type": "code",
   "execution_count": 8,
   "metadata": {
    "collapsed": false
   },
   "outputs": [],
   "source": [
    "TEST_SIZE = 0.40\n",
    "train_X, test_X, train_y, test_y = train_test_split(df_with_initial_features_and_preprocessed_review_text.review_text,\n",
    "                                                    df_with_initial_features_and_preprocessed_review_text.review_stars,\n",
    "                                                    test_size=TEST_SIZE,\n",
    "                                                    random_state=42)"
   ]
  },
  {
   "cell_type": "code",
   "execution_count": 9,
   "metadata": {
    "collapsed": false
   },
   "outputs": [],
   "source": [
    "bag_of_words_vectorizer = CountVectorizer(analyzer = \"word\",\n",
    "                                          tokenizer = None,    \n",
    "                                          preprocessor = None,\n",
    "                                          ngram_range = (1, 1),\n",
    "                                          binary = False,\n",
    "                                          strip_accents='unicode')\n",
    "\n",
    "binary_vectorizer = CountVectorizer(analyzer = \"word\",\n",
    "                                    tokenizer = None,    \n",
    "                                    preprocessor = None,\n",
    "                                    ngram_range = (1, 1),\n",
    "                                    binary = True,\n",
    "                                    strip_accents='unicode')\n",
    "\n",
    "bigram_vectorizer = CountVectorizer(analyzer = \"word\",\n",
    "                                    tokenizer = None,\n",
    "                                    preprocessor = None,\n",
    "                                    ngram_range = (2, 2),\n",
    "                                    strip_accents='unicode')\n",
    "\n",
    "trigram_vectorizer = CountVectorizer(analyzer = \"word\",\n",
    "                                     tokenizer = None,\n",
    "                                     preprocessor = None,\n",
    "                                     ngram_range = (3, 3),\n",
    "                                     strip_accents='unicode')\n",
    "\n",
    "bi_and_trigram_vectorizer = CountVectorizer(analyzer = \"word\",\n",
    "                                            tokenizer = None,\n",
    "                                            preprocessor = None,\n",
    "                                            ngram_range = (2,3),\n",
    "                                            strip_accents='unicode')\n",
    "\n",
    "random_forest_vectorizer = CountVectorizer(analyzer = \"word\",\n",
    "                                           tokenizer = None,\n",
    "                                           preprocessor = None,\n",
    "                                           ngram_range = (1,1),\n",
    "                                           strip_accents = 'unicode',\n",
    "                                           max_features = 1000)"
   ]
  },
  {
   "cell_type": "markdown",
   "metadata": {},
   "source": [
    "### Bag of Words Model"
   ]
  },
  {
   "cell_type": "markdown",
   "metadata": {},
   "source": [
    "Transform the Yelp reviews into feature vectors"
   ]
  },
  {
   "cell_type": "code",
   "execution_count": 10,
   "metadata": {
    "collapsed": false
   },
   "outputs": [
    {
     "data": {
      "text/plain": [
       "(<172262x114928 sparse matrix of type '<type 'numpy.int64'>'\n",
       " \twith 6865532 stored elements in Compressed Sparse Row format>,\n",
       " <114842x114928 sparse matrix of type '<type 'numpy.int64'>'\n",
       " \twith 4518731 stored elements in Compressed Sparse Row format>)"
      ]
     },
     "execution_count": 10,
     "metadata": {},
     "output_type": "execute_result"
    }
   ],
   "source": [
    "bow_feature_matrix_train = bag_of_words_vectorizer.fit_transform(train_X)\n",
    "bow_feature_matrix_test = bag_of_words_vectorizer.transform(test_X)\n",
    "bow_feature_matrix_train, bow_feature_matrix_test"
   ]
  },
  {
   "cell_type": "markdown",
   "metadata": {},
   "source": [
    "Perform predictions for multinomial NB"
   ]
  },
  {
   "cell_type": "code",
   "execution_count": 11,
   "metadata": {
    "collapsed": false
   },
   "outputs": [],
   "source": [
    "multinomial_nb_classifier = MultinomialNB()\n",
    "multinomial_nb_classifier.fit(bow_feature_matrix_train, train_y)\n",
    "multinomial_nb_prediction = multinomial_nb_classifier.predict(bow_feature_matrix_test)"
   ]
  },
  {
   "cell_type": "markdown",
   "metadata": {},
   "source": [
    "Visualize through Confusion Matrix"
   ]
  },
  {
   "cell_type": "code",
   "execution_count": 11,
   "metadata": {
    "collapsed": false
   },
   "outputs": [],
   "source": [
    "def make_confusion_matrix_relative(confusion_matrix):\n",
    "    star_category_classes = [1, 2, 3, 4, 5]\n",
    "    N = map(lambda clazz : sum(test_y == clazz), star_category_classes)\n",
    "    relative_confusion_matrix = np.empty((len(star_category_classes), len(star_category_classes)))\n",
    "    \n",
    "    for j in range(0, len(star_category_classes)):\n",
    "        if N[j] > 0:\n",
    "            relative_frequency = confusion_matrix[j, :] / float(N[j])\n",
    "            relative_confusion_matrix[j, :] = relative_frequency\n",
    "            \n",
    "    return relative_confusion_matrix\n",
    "\n",
    "def plot_confusion_matrix(confusion_matrix=[[]], title='CM', savefilename=''):\n",
    "    rcm = make_confusion_matrix_relative(confusion_matrix)\n",
    "    c = plt.pcolor(rcm, edgecolors='k', linewidths=4, cmap='jet', vmin=0.0, vmax=1.0)\n",
    "    plt.title(title)\n",
    "    plt.colorbar()\n",
    "    plt.ylabel('Actual Label')\n",
    "    plt.xlabel('Predicted Label')\n",
    "    plt.xticks(0.5 + np.arange(5), np.arange(1,6))\n",
    "    plt.yticks(0.5 + np.arange(5), np.arange(1,6))\n",
    "\n",
    "    def show_values(pc, fmt=\"%.2f\", **kw):\n",
    "        from itertools import izip\n",
    "        pc.update_scalarmappable()\n",
    "        ax = pc.get_axes()\n",
    "        for p, color, value in izip(pc.get_paths(), pc.get_facecolors(), pc.get_array()):\n",
    "            x, y = p.vertices[:-2, :].mean(0)\n",
    "            if sum(color[:2] > 0.3) >= 2:\n",
    "                color = (0.0, 0.0, 0.0)\n",
    "            else:\n",
    "                color = (1.0, 1.0, 1.0)\n",
    "            ax.text(x, y, fmt % value, ha=\"center\", va=\"center\", color=color, **kw)\n",
    "    \n",
    "    show_values(c)\n",
    "\n",
    "    if savefilename:\n",
    "        plt.savefig(savefilename, bbox_inches='tight')\n",
    "    \n",
    "    return plt.show()"
   ]
  },
  {
   "cell_type": "code",
   "execution_count": 13,
   "metadata": {
    "collapsed": false
   },
   "outputs": [
    {
     "name": "stdout",
     "output_type": "stream",
     "text": [
      "[[ 0.67340153  0.04245524  0.10217391  0.08746803  0.09450128]\n",
      " [ 0.23388716  0.11886069  0.23169618  0.27515063  0.14040533]\n",
      " [ 0.07969309  0.01142209  0.25503531  0.44860058  0.20524893]\n",
      " [ 0.02885764  0.00291027  0.04206109  0.51202402  0.41414698]\n",
      " [ 0.0249334   0.00109693  0.01077778  0.14655338  0.81663852]]\n"
     ]
    },
    {
     "name": "stderr",
     "output_type": "stream",
     "text": [
      "/usr/local/lib/python2.7/site-packages/matplotlib/artist.py:224: MatplotlibDeprecationWarning: get_axes has been deprecated in mpl 1.5, please use the\n",
      "axes property.  A removal date has not been set.\n",
      "  stacklevel=1)\n"
     ]
    },
    {
     "data": {
      "image/png": "[encoded data removed]",
      "text/plain": [
       "<matplotlib.figure.Figure at 0x123b1c910>"
      ]
     },
     "metadata": {},
     "output_type": "display_data"
    }
   ],
   "source": [
    "multinomial_confusion_matrix = confusion_matrix(test_y, multinomial_nb_prediction)\n",
    "print make_confusion_matrix_relative(multinomial_confusion_matrix)\n",
    "plot_confusion_matrix(multinomial_confusion_matrix, 'Multinomial Naive Bayes Confusion Matrix', savefilename='MultinomialCM.png')"
   ]
  },
  {
   "cell_type": "markdown",
   "metadata": {},
   "source": [
    "Print classifier performance metrics"
   ]
  },
  {
   "cell_type": "code",
   "execution_count": 12,
   "metadata": {
    "collapsed": false
   },
   "outputs": [],
   "source": [
    "def print_classifier_performance_metrics(name, predictions):\n",
    "    target_names = ['1 star', '2 star', '3 star', '4 star', '5 star']\n",
    "    \n",
    "    print \"MODEL: %s\" % name\n",
    "    print\n",
    "\n",
    "    print 'Precision: ' + str(metrics.precision_score(test_y, predictions, average = 'weighted'))\n",
    "    print 'Recall: ' + str(metrics.recall_score(test_y, predictions, average = 'weighted'))\n",
    "    print 'F1: ' + str(metrics.f1_score(test_y, predictions, average = 'weighted'))\n",
    "    print 'Accuracy: ' + str(metrics.accuracy_score(test_y, predictions))\n",
    "\n",
    "    print\n",
    "    print 'Classification Report:'\n",
    "    print classification_report(test_y, predictions, target_names=target_names)\n",
    "    \n",
    "    print\n",
    "    print 'Precision variance: %f' % np.var(precision_score(test_y, predictions, average=None), ddof=len(target_names)-1)\n",
    "    \n",
    "    print\n",
    "    print 'Recall variance: %f' % np.var(recall_score(test_y, predictions, average=None), ddof=len(target_names)-1)"
   ]
  },
  {
   "cell_type": "code",
   "execution_count": 15,
   "metadata": {
    "collapsed": false
   },
   "outputs": [
    {
     "name": "stdout",
     "output_type": "stream",
     "text": [
      "MODEL: Multinomial Naive Bayes\n",
      "\n",
      "Precision: 0.613900894356\n",
      "Recall: 0.63093641699\n",
      "F1: 0.612832564064\n",
      "Accuracy: 0.63093641699\n",
      "\n",
      "Classification Report:\n",
      "             precision    recall  f1-score   support\n",
      "\n",
      "     1 star       0.54      0.67      0.60      7820\n",
      "     2 star       0.51      0.12      0.19      5477\n",
      "     3 star       0.42      0.26      0.32     11469\n",
      "     4 star       0.51      0.51      0.51     32643\n",
      "     5 star       0.73      0.82      0.77     57433\n",
      "\n",
      "avg / total       0.61      0.63      0.61    114842\n",
      "\n",
      "\n",
      "Precision variance: 0.052085\n",
      "\n",
      "Recall variance: 0.332670\n"
     ]
    }
   ],
   "source": [
    "print_classifier_performance_metrics('Multinomial Naive Bayes', multinomial_nb_prediction)"
   ]
  },
  {
   "cell_type": "markdown",
   "metadata": {},
   "source": [
    "### Bernoulli Naive Bayes Model"
   ]
  },
  {
   "cell_type": "markdown",
   "metadata": {},
   "source": [
    "Transform Yelp Reviews into feature vectors by binarizing unigram occurrences"
   ]
  },
  {
   "cell_type": "code",
   "execution_count": 29,
   "metadata": {
    "collapsed": false
   },
   "outputs": [
    {
     "data": {
      "text/plain": [
       "(<172262x114928 sparse matrix of type '<type 'numpy.int64'>'\n",
       " \twith 6865532 stored elements in Compressed Sparse Row format>,\n",
       " <114842x114928 sparse matrix of type '<type 'numpy.int64'>'\n",
       " \twith 4518731 stored elements in Compressed Sparse Row format>)"
      ]
     },
     "execution_count": 29,
     "metadata": {},
     "output_type": "execute_result"
    }
   ],
   "source": [
    "bernoulli_feature_matrix_train = binary_vectorizer.fit_transform(train_X)\n",
    "bernoulli_feature_matrix_test = binary_vectorizer.transform(test_X)\n",
    "bernoulli_feature_matrix_train, bernoulli_feature_matrix_test"
   ]
  },
  {
   "cell_type": "markdown",
   "metadata": {},
   "source": [
    "Make predictions with Bernoulli NB"
   ]
  },
  {
   "cell_type": "code",
   "execution_count": 30,
   "metadata": {
    "collapsed": false
   },
   "outputs": [],
   "source": [
    "bernoulli_nb_classifier = BernoulliNB().fit(bernoulli_feature_matrix_train, train_y)\n",
    "bernoulli_nb_prediction = bernoulli_nb_classifier.predict(bernoulli_feature_matrix_test)"
   ]
  },
  {
   "cell_type": "markdown",
   "metadata": {},
   "source": [
    "Visualize through confusion matrix"
   ]
  },
  {
   "cell_type": "code",
   "execution_count": 31,
   "metadata": {
    "collapsed": false
   },
   "outputs": [
    {
     "data": {
      "image/png": "[encoded data removed]",
      "text/plain": [
       "<matplotlib.figure.Figure at 0x11efb4f50>"
      ]
     },
     "metadata": {},
     "output_type": "display_data"
    }
   ],
   "source": [
    "bernoulli_confusion_matrix = confusion_matrix(test_y, bernoulli_nb_prediction)\n",
    "plot_confusion_matrix(bernoulli_confusion_matrix, 'Bernoulli Naive Bayes Confusion Matrix', savefilename='BernoulliCM.png')"
   ]
  },
  {
   "cell_type": "code",
   "execution_count": 32,
   "metadata": {
    "collapsed": false
   },
   "outputs": [
    {
     "name": "stdout",
     "output_type": "stream",
     "text": [
      "MODEL: Bernoulli Naive Bayes\n",
      "\n",
      "Precision: 0.537633005547\n",
      "Recall: 0.564183835182\n",
      "F1: 0.535164340153\n",
      "Accuracy: 0.564183835182\n",
      "\n",
      "Classification Report:\n",
      "             precision    recall  f1-score   support\n",
      "\n",
      "     1 star       0.61      0.45      0.52      7820\n",
      "     2 star       0.35      0.10      0.16      5477\n",
      "     3 star       0.40      0.19      0.26     11469\n",
      "     4 star       0.47      0.39      0.43     32643\n",
      "     5 star       0.61      0.80      0.69     57433\n",
      "\n",
      "avg / total       0.54      0.56      0.54    114842\n",
      "\n",
      "\n",
      "Precision variance: 0.055217\n",
      "\n",
      "Recall variance: 0.295530\n"
     ]
    }
   ],
   "source": [
    "print_classifier_performance_metrics('Bernoulli Naive Bayes', bernoulli_nb_prediction)"
   ]
  },
  {
   "cell_type": "markdown",
   "metadata": {},
   "source": [
    "### Bigram Naive Bayes Model"
   ]
  },
  {
   "cell_type": "markdown",
   "metadata": {},
   "source": [
    "Transform Yelp reviews into feature vectorizers by counting bigram occurrences"
   ]
  },
  {
   "cell_type": "code",
   "execution_count": 25,
   "metadata": {
    "collapsed": false
   },
   "outputs": [
    {
     "data": {
      "text/plain": [
       "(<172262x2300807 sparse matrix of type '<type 'numpy.int64'>'\n",
       " \twith 8137912 stored elements in Compressed Sparse Row format>,\n",
       " <114842x2300807 sparse matrix of type '<type 'numpy.int64'>'\n",
       " \twith 4478904 stored elements in Compressed Sparse Row format>)"
      ]
     },
     "execution_count": 25,
     "metadata": {},
     "output_type": "execute_result"
    }
   ],
   "source": [
    "bigram_multinomial_feature_matrix_train = bigram_vectorizer.fit_transform(train_X)\n",
    "bigram_multinomial_feature_matrix_test = bigram_vectorizer.transform(test_X)\n",
    "bigram_multinomial_feature_matrix_train, bigram_multinomial_feature_matrix_test"
   ]
  },
  {
   "cell_type": "markdown",
   "metadata": {},
   "source": [
    "Make predictions with Bigram Multinomial NB"
   ]
  },
  {
   "cell_type": "code",
   "execution_count": 26,
   "metadata": {
    "collapsed": false
   },
   "outputs": [],
   "source": [
    "bigram_multinomial_nb_classifier = MultinomialNB().fit(bigram_multinomial_feature_matrix_train, train_y)\n",
    "bigram_multinomial_nb_prediction = bigram_multinomial_nb_classifier.predict(bigram_multinomial_feature_matrix_test)"
   ]
  },
  {
   "cell_type": "markdown",
   "metadata": {},
   "source": [
    "Visualize through confusion matrix"
   ]
  },
  {
   "cell_type": "code",
   "execution_count": 27,
   "metadata": {
    "collapsed": false
   },
   "outputs": [
    {
     "data": {
      "image/png": "[encoded data removed]",
      "text/plain": [
       "<matplotlib.figure.Figure at 0x10b18bf50>"
      ]
     },
     "metadata": {},
     "output_type": "display_data"
    }
   ],
   "source": [
    "bigram_multinomial_confusion_matrix = confusion_matrix(test_y, bigram_multinomial_nb_prediction)\n",
    "plot_confusion_matrix(bigram_multinomial_confusion_matrix, 'Bigram Multinomial Naive Bayes Confusion Matrix', savefilename='BigramMultinomialCM.png')"
   ]
  },
  {
   "cell_type": "code",
   "execution_count": 28,
   "metadata": {
    "collapsed": false
   },
   "outputs": [
    {
     "name": "stdout",
     "output_type": "stream",
     "text": [
      "MODEL: Bigram Multinomial Naive Bayes\n",
      "\n",
      "Precision: 0.706160213038\n",
      "Recall: 0.690749029101\n",
      "F1: 0.668789615478\n",
      "Accuracy: 0.690749029101\n",
      "\n",
      "Classification Report:\n",
      "             precision    recall  f1-score   support\n",
      "\n",
      "     1 star       0.83      0.53      0.64      7820\n",
      "     2 star       0.91      0.20      0.32      5477\n",
      "     3 star       0.78      0.27      0.40     11469\n",
      "     4 star       0.56      0.60      0.58     32643\n",
      "     5 star       0.74      0.89      0.81     57433\n",
      "\n",
      "avg / total       0.71      0.69      0.67    114842\n",
      "\n",
      "\n",
      "Precision variance: 0.067246\n",
      "\n",
      "Recall variance: 0.310338\n"
     ]
    }
   ],
   "source": [
    "print_classifier_performance_metrics('Bigram Multinomial Naive Bayes', bigram_multinomial_nb_prediction)"
   ]
  },
  {
   "cell_type": "markdown",
   "metadata": {},
   "source": [
    "### Trigram Naive Bayes Model"
   ]
  },
  {
   "cell_type": "markdown",
   "metadata": {},
   "source": [
    "Transform Yelp reviews into feature vectorizers by counting bigram occurrences"
   ]
  },
  {
   "cell_type": "code",
   "execution_count": 37,
   "metadata": {
    "collapsed": false
   },
   "outputs": [
    {
     "data": {
      "text/plain": [
       "(<172262x5271616 sparse matrix of type '<type 'numpy.int64'>'\n",
       " \twith 8115835 stored elements in Compressed Sparse Row format>,\n",
       " <114842x5271616 sparse matrix of type '<type 'numpy.int64'>'\n",
       " \twith 2669887 stored elements in Compressed Sparse Row format>)"
      ]
     },
     "execution_count": 37,
     "metadata": {},
     "output_type": "execute_result"
    }
   ],
   "source": [
    "trigram_multinomial_feature_matrix_train = trigram_vectorizer.fit_transform(train_X)\n",
    "trigram_multinomial_feature_matrix_test = trigram_vectorizer.transform(test_X)\n",
    "trigram_multinomial_feature_matrix_train, trigram_multinomial_feature_matrix_test"
   ]
  },
  {
   "cell_type": "markdown",
   "metadata": {},
   "source": [
    "Make predictions with Trigram Multinomial NB"
   ]
  },
  {
   "cell_type": "code",
   "execution_count": 38,
   "metadata": {
    "collapsed": false
   },
   "outputs": [],
   "source": [
    "tri_gram_multinomial_nb_classifier = MultinomialNB().fit(trigram_multinomial_feature_matrix_train, train_y)\n",
    "tri_gram_multinomial_nb_prediction = tri_gram_multinomial_nb_classifier.predict(trigram_multinomial_feature_matrix_test)"
   ]
  },
  {
   "cell_type": "markdown",
   "metadata": {},
   "source": [
    "Visualize through confusion matrix"
   ]
  },
  {
   "cell_type": "code",
   "execution_count": 39,
   "metadata": {
    "collapsed": false
   },
   "outputs": [
    {
     "data": {
      "image/png": "[encoded data removed]",
      "text/plain": [
       "<matplotlib.figure.Figure at 0x11fc44550>"
      ]
     },
     "metadata": {},
     "output_type": "display_data"
    }
   ],
   "source": [
    "trigram_multinomial_confusion_matrix = confusion_matrix(test_y, tri_gram_multinomial_nb_prediction)\n",
    "plot_confusion_matrix(trigram_multinomial_confusion_matrix, 'Trigram Multinomial Naive Bayes Confusion Matrix', savefilename='TrigramMultinomialCM.png')"
   ]
  },
  {
   "cell_type": "code",
   "execution_count": 40,
   "metadata": {
    "collapsed": false
   },
   "outputs": [
    {
     "name": "stdout",
     "output_type": "stream",
     "text": [
      "MODEL: Trigram Multinomial Naive Bayes\n",
      "\n",
      "Precision: 0.677951637996\n",
      "Recall: 0.666872746904\n",
      "F1: 0.644158625762\n",
      "Accuracy: 0.666872746904\n",
      "\n",
      "Classification Report:\n",
      "             precision    recall  f1-score   support\n",
      "\n",
      "     1 star       0.82      0.36      0.50      7820\n",
      "     2 star       0.86      0.23      0.36      5477\n",
      "     3 star       0.71      0.31      0.44     11469\n",
      "     4 star       0.59      0.56      0.58     32643\n",
      "     5 star       0.69      0.88      0.77     57433\n",
      "\n",
      "avg / total       0.68      0.67      0.64    114842\n",
      "\n",
      "\n",
      "Precision variance: 0.045009\n",
      "\n",
      "Recall variance: 0.270512\n"
     ]
    }
   ],
   "source": [
    "print_classifier_performance_metrics('Trigram Multinomial Naive Bayes', tri_gram_multinomial_nb_prediction)"
   ]
  },
  {
   "cell_type": "markdown",
   "metadata": {},
   "source": [
    "### Random Forest 100 Learners Model"
   ]
  },
  {
   "cell_type": "code",
   "execution_count": 41,
   "metadata": {
    "collapsed": false
   },
   "outputs": [],
   "source": [
    "forest100 = RandomForestClassifier(n_estimators = 100, random_state=42)"
   ]
  },
  {
   "cell_type": "markdown",
   "metadata": {},
   "source": [
    "Transform Yelp reviews into feature vectors"
   ]
  },
  {
   "cell_type": "code",
   "execution_count": 42,
   "metadata": {
    "collapsed": false
   },
   "outputs": [],
   "source": [
    "random_forest_feature_matrix_train = random_forest_vectorizer.fit_transform(train_X)\n",
    "random_forest_feature_matrix_test = random_forest_vectorizer.transform(test_X)"
   ]
  },
  {
   "cell_type": "markdown",
   "metadata": {},
   "source": [
    "Make predictions with random forest set at 100 learners"
   ]
  },
  {
   "cell_type": "code",
   "execution_count": 43,
   "metadata": {
    "collapsed": false
   },
   "outputs": [
    {
     "name": "stdout",
     "output_type": "stream",
     "text": [
      "CPU times: user 7min 14s, sys: 1.84 s, total: 7min 16s\n",
      "Wall time: 7min 16s\n"
     ]
    }
   ],
   "source": [
    "%time forest100.fit(random_forest_feature_matrix_train.toarray(), train_y)\n",
    "forest100_pred = forest100.predict(random_forest_feature_matrix_test.toarray())\n",
    "np.save('forest100pred', forest100_pred)"
   ]
  },
  {
   "cell_type": "markdown",
   "metadata": {},
   "source": [
    "Visualize results in confusion matrix"
   ]
  },
  {
   "cell_type": "code",
   "execution_count": 44,
   "metadata": {
    "collapsed": false
   },
   "outputs": [
    {
     "data": {
      "image/png": "[encoded data removed]",
      "text/plain": [
       "<matplotlib.figure.Figure at 0x1818ed450>"
      ]
     },
     "metadata": {},
     "output_type": "display_data"
    }
   ],
   "source": [
    "random_forest_confusion_matrix = confusion_matrix(test_y, forest100_pred)\n",
    "plot_confusion_matrix(random_forest_confusion_matrix, 'Random Forest (100 Learners) Confusion Matrix',\n",
    "                      savefilename='RandomForestCM.png')"
   ]
  },
  {
   "cell_type": "code",
   "execution_count": 45,
   "metadata": {
    "collapsed": false
   },
   "outputs": [
    {
     "name": "stdout",
     "output_type": "stream",
     "text": [
      "MODEL: Random Forest (100 Learners)\n",
      "\n",
      "Precision: 0.71215878453\n",
      "Recall: 0.707737587294\n",
      "F1: 0.687903374307\n",
      "Accuracy: 0.707737587294\n",
      "\n",
      "Classification Report:\n",
      "             precision    recall  f1-score   support\n",
      "\n",
      "     1 star       0.70      0.68      0.69      7820\n",
      "     2 star       0.81      0.23      0.36      5477\n",
      "     3 star       0.80      0.32      0.45     11469\n",
      "     4 star       0.62      0.60      0.61     32643\n",
      "     5 star       0.74      0.90      0.81     57433\n",
      "\n",
      "avg / total       0.71      0.71      0.69    114842\n",
      "\n",
      "\n",
      "Precision variance: 0.024132\n",
      "\n",
      "Recall variance: 0.299555\n"
     ]
    }
   ],
   "source": [
    "print_classifier_performance_metrics('Random Forest (100 Learners)', forest100_pred)"
   ]
  },
  {
   "cell_type": "markdown",
   "metadata": {},
   "source": [
    "### SVC Model"
   ]
  },
  {
   "cell_type": "markdown",
   "metadata": {},
   "source": [
    "Initialize feature vector and SVC model"
   ]
  },
  {
   "cell_type": "code",
   "execution_count": 46,
   "metadata": {
    "collapsed": false
   },
   "outputs": [],
   "source": [
    "svc_feature_matrix_train = random_forest_feature_matrix_train\n",
    "svc_feature_matrix_test = random_forest_feature_matrix_test\n",
    "\n",
    "svc = SVC()"
   ]
  },
  {
   "cell_type": "markdown",
   "metadata": {},
   "source": [
    "Train SVC model"
   ]
  },
  {
   "cell_type": "code",
   "execution_count": null,
   "metadata": {
    "collapsed": false
   },
   "outputs": [],
   "source": [
    "%time svc.fit(svc_feature_matrix_train, train_y) "
   ]
  },
  {
   "cell_type": "code",
   "execution_count": null,
   "metadata": {
    "collapsed": false
   },
   "outputs": [],
   "source": [
    "%time svc_predictions = svc.predict(svc_feature_matrix_test)\n",
    "np.save('svcPred', svc_predictions)"
   ]
  },
  {
   "cell_type": "code",
   "execution_count": 33,
   "metadata": {
    "collapsed": false
   },
   "outputs": [],
   "source": [
    "if os.path.isfile('svcPred.npy'):\n",
    "    svc_predictions = np.load('svcPred.npy')"
   ]
  },
  {
   "cell_type": "code",
   "execution_count": 35,
   "metadata": {
    "collapsed": false
   },
   "outputs": [
    {
     "data": {
      "image/png": "[encoded data removed]",
      "text/plain": [
       "<matplotlib.figure.Figure at 0x7fbbfe3f62d0>"
      ]
     },
     "metadata": {},
     "output_type": "display_data"
    }
   ],
   "source": [
    "svc_confusion_matrix = confusion_matrix(test_y, svc_predictions)\n",
    "plot_confusion_matrix(svc_confusion_matrix, 'SVC Confusion Matrix', savefilename='SVC_CM.png')"
   ]
  },
  {
   "cell_type": "code",
   "execution_count": 36,
   "metadata": {
    "collapsed": false
   },
   "outputs": [
    {
     "name": "stdout",
     "output_type": "stream",
     "text": [
      "MODEL: SVC\n",
      "\n",
      "Precision: 0.538277121141\n",
      "Recall: 0.517447386286\n",
      "F1: 0.446632174967\n",
      "Accuracy: 0.517447386286\n",
      "\n",
      "Classification Report:\n",
      "             precision    recall  f1-score   support\n",
      "\n",
      "     1 star       0.67      0.17      0.27       884\n",
      "     2 star       0.69      0.04      0.07       810\n",
      "     3 star       0.58      0.01      0.03      1965\n",
      "     4 star       0.49      0.41      0.44      4897\n",
      "     5 star       0.52      0.88      0.66      6174\n",
      "\n",
      "avg / total       0.54      0.52      0.45     14730\n",
      "\n",
      "\n",
      "Precision variance: 0.030706\n",
      "\n",
      "Recall variance: 0.513996\n"
     ]
    }
   ],
   "source": [
    "print_classifier_performance_metrics('SVC', svc_predictions)"
   ]
  },
  {
   "cell_type": "markdown",
   "metadata": {},
   "source": [
    "### Bigram-Trigram Model"
   ]
  },
  {
   "cell_type": "markdown",
   "metadata": {},
   "source": [
    "Transform Yelp reviews into feature vectors"
   ]
  },
  {
   "cell_type": "code",
   "execution_count": 10,
   "metadata": {
    "collapsed": false
   },
   "outputs": [
    {
     "data": {
      "text/plain": [
       "(<172262x7572423 sparse matrix of type '<type 'numpy.int64'>'\n",
       " \twith 16253747 stored elements in Compressed Sparse Row format>,\n",
       " <114842x7572423 sparse matrix of type '<type 'numpy.int64'>'\n",
       " \twith 7148791 stored elements in Compressed Sparse Row format>)"
      ]
     },
     "execution_count": 10,
     "metadata": {},
     "output_type": "execute_result"
    }
   ],
   "source": [
    "bi_and_trigram_multinomial_feature_matrix_train = bi_and_trigram_vectorizer.fit_transform(train_X)\n",
    "bi_and_trigram_multinomial_feature_matrix_test = bi_and_trigram_vectorizer.transform(test_X)\n",
    "bi_and_trigram_multinomial_feature_matrix_train, bi_and_trigram_multinomial_feature_matrix_test"
   ]
  },
  {
   "cell_type": "markdown",
   "metadata": {},
   "source": [
    "Make predictions with Bi-Trigram Multinomial NB"
   ]
  },
  {
   "cell_type": "code",
   "execution_count": 11,
   "metadata": {
    "collapsed": false
   },
   "outputs": [],
   "source": [
    "bi_and_tri_gram_multinomial_nb_classifier = MultinomialNB().fit(bi_and_trigram_multinomial_feature_matrix_train, train_y)\n",
    "bi_and_tri_gram_multinomial_nb_prediction = bi_and_tri_gram_multinomial_nb_classifier.predict(bi_and_trigram_multinomial_feature_matrix_test)"
   ]
  },
  {
   "cell_type": "markdown",
   "metadata": {},
   "source": [
    "Visualize results in confusion matrix"
   ]
  },
  {
   "cell_type": "code",
   "execution_count": 16,
   "metadata": {
    "collapsed": false
   },
   "outputs": [
    {
     "name": "stderr",
     "output_type": "stream",
     "text": [
      "/usr/local/lib/python2.7/site-packages/matplotlib/artist.py:224: MatplotlibDeprecationWarning: get_axes has been deprecated in mpl 1.5, please use the\n",
      "axes property.  A removal date has not been set.\n",
      "  stacklevel=1)\n"
     ]
    },
    {
     "data": {
      "image/png": "[encoded data removed]",
      "text/plain": [
       "<matplotlib.figure.Figure at 0x13039f0d0>"
      ]
     },
     "metadata": {},
     "output_type": "display_data"
    }
   ],
   "source": [
    "bi_and_tri_gram_multinomial_confusion_matrix = confusion_matrix(test_y, bi_and_tri_gram_multinomial_nb_prediction)\n",
    "plot_confusion_matrix(bi_and_tri_gram_multinomial_confusion_matrix,\n",
    "                      'Bigram-Trigram Multinomial Naive Bayes \\n Confusion Matrix', savefilename='BiAndTrigramMultinomialCM.png')"
   ]
  },
  {
   "cell_type": "code",
   "execution_count": 21,
   "metadata": {
    "collapsed": false
   },
   "outputs": [
    {
     "name": "stdout",
     "output_type": "stream",
     "text": [
      "MODEL: Bi-and-Trigram Multinomial Naive Bayes\n",
      "\n",
      "Precision: 0.716881319765\n",
      "Recall: 0.692168370457\n",
      "F1: 0.668495407402\n",
      "Accuracy: 0.692168370457\n",
      "\n",
      "Classification Report:\n",
      "             precision    recall  f1-score   support\n",
      "\n",
      "     1 star       0.88      0.47      0.61      7820\n",
      "     2 star       0.95      0.21      0.35      5477\n",
      "     3 star       0.87      0.28      0.43     11469\n",
      "     4 star       0.58      0.59      0.58     32643\n",
      "     5 star       0.72      0.91      0.80     57433\n",
      "\n",
      "avg / total       0.72      0.69      0.67    114842\n",
      "\n",
      "\n",
      "Precision variance: 0.091426\n",
      "\n",
      "Recall variance: 0.306446\n"
     ]
    }
   ],
   "source": [
    "print_classifier_performance_metrics('Bi-and-Trigram Multinomial Naive Bayes', bi_and_tri_gram_multinomial_nb_prediction)"
   ]
  },
  {
   "cell_type": "code",
   "execution_count": 16,
   "metadata": {
    "collapsed": false
   },
   "outputs": [],
   "source": [
    "from operator import itemgetter\n",
    "\n",
    "def argmax(dictionary):\n",
    "    return (max(dictionary.iteritems(), key=itemgetter(1)))[0]\n",
    "\n",
    "class Multinomial_NB_Classifier():\n",
    "    \n",
    "    def train(self, class_labels, documents, class_priors=[], complement=False):       \n",
    "        Classes = sorted(list(set(class_labels)))\n",
    "        Vocabulary = reduce(lambda V, d : V.union(set(d.split())), documents, set())\n",
    "        \n",
    "        if len(class_priors) != len(Classes):\n",
    "            N_documents_per_class = lambda c : sum(c == np.array(class_labels))\n",
    "            N_documents = len(documents)\n",
    "            class_priors = {c : N_documents_per_class(c) / float(N_documents) for c in Classes}\n",
    "        \n",
    "        Text_given_class = {c : documents[c == np.array(class_labels)].sum() for c in Classes}\n",
    "        length_of_concatenated_documents_of_class = {c : len(Text_given_class[c].split()) for c in Classes}\n",
    "        total_length_of_concatenated_documents_of_all_classes = sum([length_of_concatenated_documents_of_class[C] for C in Classes])\n",
    "        \n",
    "        absolute_frequency_vectorizer = CountVectorizer(analyzer = \"word\",\n",
    "                                                        vocabulary = Vocabulary,\n",
    "                                                        ngram_range = (1, 1),\n",
    "                                                        binary = False)\n",
    "        documentclass_termunigram_matrix = absolute_frequency_vectorizer.fit_transform(Text_given_class.values())\n",
    "    \n",
    "        number_of_feature_words = documentclass_termunigram_matrix.shape[1]\n",
    "        feature_word_index = dict(zip(absolute_frequency_vectorizer.get_feature_names(), range(number_of_feature_words)))\n",
    "        word_counts_irregardless_of_class = documentclass_termunigram_matrix.sum(axis=0)\n",
    "        \n",
    "        WORD_GIVEN_CLASS_CPT = {}\n",
    "        COMPLEMENT_WORD_GIVEN_CLASS_CPT = {}\n",
    "        K = len(Vocabulary)\n",
    "        \n",
    "        for class_idx, c in enumerate(Classes):\n",
    "            if c not in WORD_GIVEN_CLASS_CPT:\n",
    "                WORD_GIVEN_CLASS_CPT[c] = {}\n",
    "                COMPLEMENT_WORD_GIVEN_CLASS_CPT[c] = {}\n",
    "\n",
    "            for w in Vocabulary:\n",
    "                T_wc = documentclass_termunigram_matrix[class_idx, feature_word_index[w]]\n",
    "                WORD_GIVEN_CLASS_CPT[c][w] = float(1 + T_wc) / (K + length_of_concatenated_documents_of_class[c])\n",
    "                \n",
    "                C_wc = word_counts_irregardless_of_class[0, feature_word_index[w]] - T_wc\n",
    "                complement_classes_wc = total_length_of_concatenated_documents_of_all_classes-length_of_concatenated_documents_of_class[c]\n",
    "                COMPLEMENT_WORD_GIVEN_CLASS_CPT[c][w] = float(1 + C_wc) / (K + complement_classes_wc)\n",
    "           \n",
    "        self.classes = Classes\n",
    "        self.vocabulary = Vocabulary\n",
    "        self.class_priors = class_priors\n",
    "        self.words_cpt = WORD_GIVEN_CLASS_CPT\n",
    "        \n",
    "        if complement:\n",
    "            self.complement = True\n",
    "            self.complement_cpt = COMPLEMENT_WORD_GIVEN_CLASS_CPT\n",
    "        else:\n",
    "            self.complement = False\n",
    "            \n",
    "        return self\n",
    "\n",
    "    def predict(self, documents):\n",
    "        target_labels = []\n",
    "        \n",
    "        for d in documents:\n",
    "            score = {}\n",
    "            Words_d = set(d.split())\n",
    "            \n",
    "            for class_idx, c in enumerate(self.classes):\n",
    "                word_log_likelihoods = np.log([self.words_cpt[c][w] for w in Words_d if w in self.vocabulary])\n",
    "                score[c] = np.log(self.class_priors[c])\n",
    "                \n",
    "                if self.complement:\n",
    "                    word_in_complement_classes_log_likelihoods = np.log([self.complement_cpt[c][w] for w in Words_d if w in self.vocabulary])\n",
    "                    score[c] -= sum(word_in_complement_classes_log_likelihoods)\n",
    "                else:\n",
    "                    score[c] += sum(word_log_likelihoods)\n",
    "                    \n",
    "            c_map = argmax(score)\n",
    "            target_labels.append(c_map)\n",
    "            \n",
    "        return target_labels                            "
   ]
  },
  {
   "cell_type": "code",
   "execution_count": 17,
   "metadata": {
    "collapsed": false
   },
   "outputs": [
    {
     "name": "stdout",
     "output_type": "stream",
     "text": [
      "CPU times: user 21min 24s, sys: 9min 52s, total: 31min 16s\n",
      "Wall time: 31min 20s\n"
     ]
    }
   ],
   "source": [
    "%time clf = Multinomial_NB_Classifier().train(class_labels=train_y, documents=train_X, complement=True)"
   ]
  },
  {
   "cell_type": "code",
   "execution_count": 18,
   "metadata": {
    "collapsed": false
   },
   "outputs": [
    {
     "name": "stdout",
     "output_type": "stream",
     "text": [
      "CPU times: user 32.5 s, sys: 333 ms, total: 32.9 s\n",
      "Wall time: 32.8 s\n"
     ]
    }
   ],
   "source": [
    "%time pre = clf.predict(test_X)"
   ]
  },
  {
   "cell_type": "code",
   "execution_count": 19,
   "metadata": {
    "collapsed": false
   },
   "outputs": [
    {
     "data": {
      "image/png": "[encoded data removed]",
      "text/plain": [
       "<matplotlib.figure.Figure at 0x11a607d50>"
      ]
     },
     "metadata": {},
     "output_type": "display_data"
    }
   ],
   "source": [
    "my_multinomial_confusion_matrix = confusion_matrix(test_y, pre)\n",
    "plot_confusion_matrix(my_multinomial_confusion_matrix,\n",
    "                      'My Multinomial Naive Bayes Confusion Matrix', savefilename='MyMultinomialCM.png')"
   ]
  },
  {
   "cell_type": "code",
   "execution_count": 20,
   "metadata": {
    "collapsed": false
   },
   "outputs": [
    {
     "name": "stdout",
     "output_type": "stream",
     "text": [
      "MODEL: My Multinomial Naive Bayes\n",
      "\n",
      "Precision: 0.627578336106\n",
      "Recall: 0.624475366155\n",
      "F1: 0.579066423155\n",
      "Accuracy: 0.624475366155\n",
      "\n",
      "Classification Report:\n",
      "             precision    recall  f1-score   support\n",
      "\n",
      "     1 star       0.52      0.61      0.56      7820\n",
      "     2 star       0.92      0.06      0.11      5477\n",
      "     3 star       0.67      0.12      0.20     11469\n",
      "     4 star       0.51      0.41      0.45     32643\n",
      "     5 star       0.67      0.90      0.77     57433\n",
      "\n",
      "avg / total       0.63      0.62      0.58    114842\n",
      "\n",
      "\n",
      "Precision variance: 0.112168\n",
      "\n",
      "Recall variance: 0.488301\n"
     ]
    }
   ],
   "source": [
    "print_classifier_performance_metrics('My Multinomial Naive Bayes', pre)"
   ]
  },
  {
   "cell_type": "markdown",
   "metadata": {},
   "source": [
    "### Top 10 Features for each Star Category of Bag of Words Multinomial NB"
   ]
  },
  {
   "cell_type": "code",
   "execution_count": 21,
   "metadata": {
    "collapsed": false
   },
   "outputs": [
    {
     "name": "stdout",
     "output_type": "stream",
     "text": [
      "\n",
      "The top 10 most informative features for star category 1: \n",
      "custom, good, wait, dont, back, order, servic, food, place, time\n",
      "\n",
      "The top 10 most informative features for star category 2: \n",
      "didnt, wait, dont, back, servic, order, good, time, place, food\n",
      "\n",
      "The top 10 most informative features for star category 3: \n",
      "im, back, dont, great, servic, order, time, place, food, good\n",
      "\n",
      "The top 10 most informative features for star category 4: \n",
      "back, nice, servic, love, order, time, great, food, place, good\n",
      "\n",
      "The top 10 most informative features for star category 5: \n",
      "make, back, order, servic, time, love, good, food, great, place\n"
     ]
    }
   ],
   "source": [
    "N = 10\n",
    "vocab = np.array([t for t, i in sorted(bag_of_words_vectorizer.vocabulary_.iteritems(), key=itemgetter(1))])\n",
    "\n",
    "for i, label in enumerate(sorted(set(train_y))):\n",
    " top_n_features_indices = np.argsort(multinomial_nb_classifier.coef_[i])[-N:]\n",
    " print \"\\nThe top %d most informative features for star category %d: \\n%s\" % (N, label, \", \".join(vocab[top_n_features_indices]))"
   ]
  },
  {
   "cell_type": "markdown",
   "metadata": {},
   "source": [
    "### Top 10 Features for each Star Category of Bigram Multinomial NB"
   ]
  },
  {
   "cell_type": "code",
   "execution_count": 24,
   "metadata": {
    "collapsed": false
   },
   "outputs": [
    {
     "name": "stdout",
     "output_type": "stream",
     "text": [
      "0.18.1\n"
     ]
    }
   ],
   "source": [
    "import sklearn\n",
    "print sklearn.__version__"
   ]
  },
  {
   "cell_type": "code",
   "execution_count": 29,
   "metadata": {
    "collapsed": false
   },
   "outputs": [
    {
     "name": "stdout",
     "output_type": "stream",
     "text": [
      "\n",
      "The top 10 most informative features for star category 1: \n",
      "call back, dont care, come back, wont back, la vega, give star, wast time, front desk, wait minut, custom servic\n",
      "\n",
      "The top 10 most informative features for star category 2: \n",
      "give star, come back, good food, ice cream, wont back, happi hour, wait minut, pretti good, food good, custom servic\n",
      "\n",
      "The top 10 most informative features for star category 3: \n",
      "staff friendli, servic good, give star, good food, ice cream, la vega, custom servic, food good, happi hour, pretti good\n",
      "\n",
      "The top 10 most informative features for star category 4: \n",
      "love place, great food, staff friendli, good food, ice cream, food good, great place, pretti good, la vega, happi hour\n",
      "\n",
      "The top 10 most informative features for star category 5: \n",
      "food great, ice cream, custom servic, great place, happi hour, great servic, la vega, great food, highli recommend, love place\n"
     ]
    }
   ],
   "source": [
    "N = 10\n",
    "vocab = np.array([t for t, i in sorted(bigram_vectorizer.vocabulary_.iteritems(), key=itemgetter(1))])\n",
    "\n",
    "for i, label in enumerate(sorted(set(train_y))):\n",
    " top_n_features_indices = np.argsort(bigram_multinomial_nb_classifier.coef_[i])[-N:]\n",
    " print \"\\nThe top %d most informative features for star category %d: \\n%s\" % (N, label, \", \".join(vocab[top_n_features_indices]))"
   ]
  },
  {
   "cell_type": "markdown",
   "metadata": {},
   "source": [
    "### ReFeature Engineering to Improve Classifier Accuracy"
   ]
  },
  {
   "cell_type": "code",
   "execution_count": 30,
   "metadata": {
    "collapsed": false
   },
   "outputs": [],
   "source": [
    "import json\n",
    "from collections import OrderedDict\n",
    " \n",
    "def convert_json_dict_string_to_python_dict(json_string_dict):\n",
    "    return json.loads(json_string_dict.replace('\\'', '\"').replace('u\"', '\"'))\n",
    "\n",
    "def get_number_of_review_votes_that_are(cool_or_funny_or_useful):\n",
    "    assert cool_or_funny_or_useful in ['cool', 'funny', 'useful']\n",
    "    return lambda review_votes_dict : review_votes_dict[cool_or_funny_or_useful]\n",
    "\n",
    "def get_total_review_votes(review_votes_dict):\n",
    "    return review_votes_dict['cool'] + review_votes_dict['funny'] + review_votes_dict['useful']\n",
    "\n",
    "def get_number_of_compliments_that_are(cool_or_cute_or_funny_or_hot_or_list_or_more_or_note_or_photos_or_plain_or_profile_or_writer):\n",
    "    key = cool_or_cute_or_funny_or_hot_or_list_or_more_or_note_or_photos_or_plain_or_profile_or_writer\n",
    "    assert cool_or_cute_or_funny_or_hot_or_list_or_more_or_note_or_photos_or_plain_or_profile_or_writer in [u'cool',\n",
    "                                                                                                            u'cute',\n",
    "                                                                                                            u'funny',\n",
    "                                                                                                            u'hot',\n",
    "                                                                                                            u'list',\n",
    "                                                                                                            u'more',\n",
    "                                                                                                            u'note',\n",
    "                                                                                                            u'photos',\n",
    "                                                                                                            u'plain',\n",
    "                                                                                                            u'profile',\n",
    "                                                                                                            u'writer']\n",
    "    return lambda compliments_dict : compliments_dict[key] if key in compliments_dict else 0\n",
    "\n",
    "def count_number_of_positive_words(document):\n",
    "    return len(filter(lambda tok : tok in POSITIVE_WORDS, document.split()))\n",
    "\n",
    "def count_number_of_negative_words(document):\n",
    "    return len(filter(lambda tok : tok in NEGATIVE_WORDS, document.split()))\n",
    "\n",
    "def check_that_userid_does_not_appear_in_its_friendid_list(df):\n",
    "    for i, x in df.iterrows():\n",
    "        d = OrderedDict(x)\n",
    "        assert d['business_id'] not in d['friends_id_list']\n",
    "\n",
    "def get_average_friends_average_stars(df):\n",
    "    \n",
    "    def apply_func(friend_user_id_list):\n",
    "        friend_ids_that_exist_in_df = set(df['user_id']).intersection(set(friend_user_id_list))\n",
    "        indices_of_records_with_friend_ids = df['user_id'].isin(friend_ids_that_exist_in_df)\n",
    "        userid_and_averagestars_df = df[['user_id', 'user_average_stars']]\n",
    "        friends_average_stars_indexed_by_userid_df = userid_and_averagestars_df.loc[indices_of_records_with_friend_ids].groupby('user_id').mean()\n",
    "        return np.mean(friends_average_stars_indexed_by_userid_df['user_average_stars'])\n",
    "    \n",
    "    return apply_func"
   ]
  },
  {
   "cell_type": "code",
   "execution_count": 32,
   "metadata": {
    "collapsed": false
   },
   "outputs": [
    {
     "name": "stderr",
     "output_type": "stream",
     "text": [
      "/usr/local/lib/python2.7/site-packages/ipykernel/__main__.py:2: SettingWithCopyWarning: \n",
      "A value is trying to be set on a copy of a slice from a DataFrame.\n",
      "Try using .loc[row_indexer,col_indexer] = value instead\n",
      "\n",
      "See the caveats in the documentation: http://pandas.pydata.org/pandas-docs/stable/indexing.html#indexing-view-versus-copy\n",
      "  from ipykernel import kernelapp as app\n",
      "/usr/local/lib/python2.7/site-packages/ipykernel/__main__.py:3: SettingWithCopyWarning: \n",
      "A value is trying to be set on a copy of a slice from a DataFrame.\n",
      "Try using .loc[row_indexer,col_indexer] = value instead\n",
      "\n",
      "See the caveats in the documentation: http://pandas.pydata.org/pandas-docs/stable/indexing.html#indexing-view-versus-copy\n",
      "  app.launch_new_instance()\n",
      "/usr/local/lib/python2.7/site-packages/ipykernel/__main__.py:4: SettingWithCopyWarning: \n",
      "A value is trying to be set on a copy of a slice from a DataFrame.\n",
      "Try using .loc[row_indexer,col_indexer] = value instead\n",
      "\n",
      "See the caveats in the documentation: http://pandas.pydata.org/pandas-docs/stable/indexing.html#indexing-view-versus-copy\n",
      "/usr/local/lib/python2.7/site-packages/ipykernel/__main__.py:5: SettingWithCopyWarning: \n",
      "A value is trying to be set on a copy of a slice from a DataFrame.\n",
      "Try using .loc[row_indexer,col_indexer] = value instead\n",
      "\n",
      "See the caveats in the documentation: http://pandas.pydata.org/pandas-docs/stable/indexing.html#indexing-view-versus-copy\n",
      "/usr/local/lib/python2.7/site-packages/ipykernel/__main__.py:6: SettingWithCopyWarning: \n",
      "A value is trying to be set on a copy of a slice from a DataFrame.\n",
      "Try using .loc[row_indexer,col_indexer] = value instead\n",
      "\n",
      "See the caveats in the documentation: http://pandas.pydata.org/pandas-docs/stable/indexing.html#indexing-view-versus-copy\n",
      "/usr/local/lib/python2.7/site-packages/ipykernel/__main__.py:7: SettingWithCopyWarning: \n",
      "A value is trying to be set on a copy of a slice from a DataFrame.\n",
      "Try using .loc[row_indexer,col_indexer] = value instead\n",
      "\n",
      "See the caveats in the documentation: http://pandas.pydata.org/pandas-docs/stable/indexing.html#indexing-view-versus-copy\n",
      "/usr/local/lib/python2.7/site-packages/ipykernel/__main__.py:9: SettingWithCopyWarning: \n",
      "A value is trying to be set on a copy of a slice from a DataFrame.\n",
      "Try using .loc[row_indexer,col_indexer] = value instead\n",
      "\n",
      "See the caveats in the documentation: http://pandas.pydata.org/pandas-docs/stable/indexing.html#indexing-view-versus-copy\n",
      "/usr/local/lib/python2.7/site-packages/ipykernel/__main__.py:10: SettingWithCopyWarning: \n",
      "A value is trying to be set on a copy of a slice from a DataFrame.\n",
      "Try using .loc[row_indexer,col_indexer] = value instead\n",
      "\n",
      "See the caveats in the documentation: http://pandas.pydata.org/pandas-docs/stable/indexing.html#indexing-view-versus-copy\n",
      "/usr/local/lib/python2.7/site-packages/ipykernel/__main__.py:11: SettingWithCopyWarning: \n",
      "A value is trying to be set on a copy of a slice from a DataFrame.\n",
      "Try using .loc[row_indexer,col_indexer] = value instead\n",
      "\n",
      "See the caveats in the documentation: http://pandas.pydata.org/pandas-docs/stable/indexing.html#indexing-view-versus-copy\n",
      "/usr/local/lib/python2.7/site-packages/ipykernel/__main__.py:12: SettingWithCopyWarning: \n",
      "A value is trying to be set on a copy of a slice from a DataFrame.\n",
      "Try using .loc[row_indexer,col_indexer] = value instead\n",
      "\n",
      "See the caveats in the documentation: http://pandas.pydata.org/pandas-docs/stable/indexing.html#indexing-view-versus-copy\n",
      "/usr/local/lib/python2.7/site-packages/ipykernel/__main__.py:13: SettingWithCopyWarning: \n",
      "A value is trying to be set on a copy of a slice from a DataFrame.\n",
      "Try using .loc[row_indexer,col_indexer] = value instead\n",
      "\n",
      "See the caveats in the documentation: http://pandas.pydata.org/pandas-docs/stable/indexing.html#indexing-view-versus-copy\n",
      "/usr/local/lib/python2.7/site-packages/ipykernel/__main__.py:14: SettingWithCopyWarning: \n",
      "A value is trying to be set on a copy of a slice from a DataFrame.\n",
      "Try using .loc[row_indexer,col_indexer] = value instead\n",
      "\n",
      "See the caveats in the documentation: http://pandas.pydata.org/pandas-docs/stable/indexing.html#indexing-view-versus-copy\n",
      "/usr/local/lib/python2.7/site-packages/ipykernel/__main__.py:15: SettingWithCopyWarning: \n",
      "A value is trying to be set on a copy of a slice from a DataFrame.\n",
      "Try using .loc[row_indexer,col_indexer] = value instead\n",
      "\n",
      "See the caveats in the documentation: http://pandas.pydata.org/pandas-docs/stable/indexing.html#indexing-view-versus-copy\n",
      "/usr/local/lib/python2.7/site-packages/ipykernel/__main__.py:16: SettingWithCopyWarning: \n",
      "A value is trying to be set on a copy of a slice from a DataFrame.\n",
      "Try using .loc[row_indexer,col_indexer] = value instead\n",
      "\n",
      "See the caveats in the documentation: http://pandas.pydata.org/pandas-docs/stable/indexing.html#indexing-view-versus-copy\n",
      "/usr/local/lib/python2.7/site-packages/ipykernel/__main__.py:17: SettingWithCopyWarning: \n",
      "A value is trying to be set on a copy of a slice from a DataFrame.\n",
      "Try using .loc[row_indexer,col_indexer] = value instead\n",
      "\n",
      "See the caveats in the documentation: http://pandas.pydata.org/pandas-docs/stable/indexing.html#indexing-view-versus-copy\n",
      "/usr/local/lib/python2.7/site-packages/ipykernel/__main__.py:18: SettingWithCopyWarning: \n",
      "A value is trying to be set on a copy of a slice from a DataFrame.\n",
      "Try using .loc[row_indexer,col_indexer] = value instead\n",
      "\n",
      "See the caveats in the documentation: http://pandas.pydata.org/pandas-docs/stable/indexing.html#indexing-view-versus-copy\n",
      "/usr/local/lib/python2.7/site-packages/ipykernel/__main__.py:19: SettingWithCopyWarning: \n",
      "A value is trying to be set on a copy of a slice from a DataFrame.\n",
      "Try using .loc[row_indexer,col_indexer] = value instead\n",
      "\n",
      "See the caveats in the documentation: http://pandas.pydata.org/pandas-docs/stable/indexing.html#indexing-view-versus-copy\n",
      "/usr/local/lib/python2.7/site-packages/ipykernel/__main__.py:20: SettingWithCopyWarning: \n",
      "A value is trying to be set on a copy of a slice from a DataFrame.\n",
      "Try using .loc[row_indexer,col_indexer] = value instead\n",
      "\n",
      "See the caveats in the documentation: http://pandas.pydata.org/pandas-docs/stable/indexing.html#indexing-view-versus-copy\n",
      "/usr/local/lib/python2.7/site-packages/ipykernel/__main__.py:21: SettingWithCopyWarning: \n",
      "A value is trying to be set on a copy of a slice from a DataFrame.\n",
      "Try using .loc[row_indexer,col_indexer] = value instead\n",
      "\n",
      "See the caveats in the documentation: http://pandas.pydata.org/pandas-docs/stable/indexing.html#indexing-view-versus-copy\n",
      "/usr/local/lib/python2.7/site-packages/ipykernel/__main__.py:22: SettingWithCopyWarning: \n",
      "A value is trying to be set on a copy of a slice from a DataFrame.\n",
      "Try using .loc[row_indexer,col_indexer] = value instead\n",
      "\n",
      "See the caveats in the documentation: http://pandas.pydata.org/pandas-docs/stable/indexing.html#indexing-view-versus-copy\n",
      "/usr/local/lib/python2.7/site-packages/ipykernel/__main__.py:23: SettingWithCopyWarning: \n",
      "A value is trying to be set on a copy of a slice from a DataFrame.\n",
      "Try using .loc[row_indexer,col_indexer] = value instead\n",
      "\n",
      "See the caveats in the documentation: http://pandas.pydata.org/pandas-docs/stable/indexing.html#indexing-view-versus-copy\n",
      "/usr/local/lib/python2.7/site-packages/ipykernel/__main__.py:24: SettingWithCopyWarning: \n",
      "A value is trying to be set on a copy of a slice from a DataFrame.\n",
      "Try using .loc[row_indexer,col_indexer] = value instead\n",
      "\n",
      "See the caveats in the documentation: http://pandas.pydata.org/pandas-docs/stable/indexing.html#indexing-view-versus-copy\n",
      "/usr/local/lib/python2.7/site-packages/ipykernel/__main__.py:25: SettingWithCopyWarning: \n",
      "A value is trying to be set on a copy of a slice from a DataFrame.\n",
      "Try using .loc[row_indexer,col_indexer] = value instead\n",
      "\n",
      "See the caveats in the documentation: http://pandas.pydata.org/pandas-docs/stable/indexing.html#indexing-view-versus-copy\n",
      "/usr/local/lib/python2.7/site-packages/ipykernel/__main__.py:26: SettingWithCopyWarning: \n",
      "A value is trying to be set on a copy of a slice from a DataFrame.\n",
      "Try using .loc[row_indexer,col_indexer] = value instead\n",
      "\n",
      "See the caveats in the documentation: http://pandas.pydata.org/pandas-docs/stable/indexing.html#indexing-view-versus-copy\n",
      "/usr/local/lib/python2.7/site-packages/ipykernel/__main__.py:27: SettingWithCopyWarning: \n",
      "A value is trying to be set on a copy of a slice from a DataFrame.\n",
      "Try using .loc[row_indexer,col_indexer] = value instead\n",
      "\n",
      "See the caveats in the documentation: http://pandas.pydata.org/pandas-docs/stable/indexing.html#indexing-view-versus-copy\n",
      "/usr/local/lib/python2.7/site-packages/ipykernel/__main__.py:28: SettingWithCopyWarning: \n",
      "A value is trying to be set on a copy of a slice from a DataFrame.\n",
      "Try using .loc[row_indexer,col_indexer] = value instead\n",
      "\n",
      "See the caveats in the documentation: http://pandas.pydata.org/pandas-docs/stable/indexing.html#indexing-view-versus-copy\n",
      "/usr/local/lib/python2.7/site-packages/ipykernel/__main__.py:29: SettingWithCopyWarning: \n",
      "A value is trying to be set on a copy of a slice from a DataFrame.\n",
      "Try using .loc[row_indexer,col_indexer] = value instead\n",
      "\n",
      "See the caveats in the documentation: http://pandas.pydata.org/pandas-docs/stable/indexing.html#indexing-view-versus-copy\n",
      "/usr/local/lib/python2.7/site-packages/ipykernel/__main__.py:30: SettingWithCopyWarning: \n",
      "A value is trying to be set on a copy of a slice from a DataFrame.\n",
      "Try using .loc[row_indexer,col_indexer] = value instead\n",
      "\n",
      "See the caveats in the documentation: http://pandas.pydata.org/pandas-docs/stable/indexing.html#indexing-view-versus-copy\n",
      "/usr/local/lib/python2.7/site-packages/ipykernel/__main__.py:32: SettingWithCopyWarning: \n",
      "A value is trying to be set on a copy of a slice from a DataFrame.\n",
      "Try using .loc[row_indexer,col_indexer] = value instead\n",
      "\n",
      "See the caveats in the documentation: http://pandas.pydata.org/pandas-docs/stable/indexing.html#indexing-view-versus-copy\n",
      "/usr/local/lib/python2.7/site-packages/ipykernel/__main__.py:33: SettingWithCopyWarning: \n",
      "A value is trying to be set on a copy of a slice from a DataFrame.\n",
      "Try using .loc[row_indexer,col_indexer] = value instead\n",
      "\n",
      "See the caveats in the documentation: http://pandas.pydata.org/pandas-docs/stable/indexing.html#indexing-view-versus-copy\n",
      "/usr/local/lib/python2.7/site-packages/ipykernel/__main__.py:35: SettingWithCopyWarning: \n",
      "A value is trying to be set on a copy of a slice from a DataFrame.\n",
      "Try using .loc[row_indexer,col_indexer] = value instead\n",
      "\n",
      "See the caveats in the documentation: http://pandas.pydata.org/pandas-docs/stable/indexing.html#indexing-view-versus-copy\n"
     ]
    }
   ],
   "source": [
    "df_with_refeature_engineered = df_with_initial_features_and_preprocessed_review_text\n",
    "df_with_refeature_engineered['review_votes'] = TURBO_DF.review_votes.apply(convert_json_dict_string_to_python_dict)\n",
    "df_with_refeature_engineered['review_cool'] = df_with_refeature_engineered.review_votes.apply(get_number_of_review_votes_that_are('cool'))\n",
    "df_with_refeature_engineered['review_funny'] = df_with_refeature_engineered.review_votes.apply(get_number_of_review_votes_that_are('funny'))\n",
    "df_with_refeature_engineered['review_useful'] = df_with_refeature_engineered.review_votes.apply(get_number_of_review_votes_that_are('useful'))\n",
    "df_with_refeature_engineered['review_votes_count'] = df_with_refeature_engineered.review_votes.apply(get_total_review_votes)\n",
    "df_with_refeature_engineered['review_length'] = df_with_refeature_engineered.review_text.apply(len)\n",
    "\n",
    "df_with_refeature_engineered['user_id'] = TURBO_DF.user_id\n",
    "df_with_refeature_engineered['user_votes'] = TURBO_DF.user_votes.apply(convert_json_dict_string_to_python_dict)\n",
    "df_with_refeature_engineered['user_cool'] = df_with_refeature_engineered.user_votes.apply(get_number_of_review_votes_that_are('cool'))\n",
    "df_with_refeature_engineered['user_funny'] = df_with_refeature_engineered.user_votes.apply(get_number_of_review_votes_that_are('funny'))\n",
    "df_with_refeature_engineered['user_useful'] = df_with_refeature_engineered.user_votes.apply(get_number_of_review_votes_that_are('useful'))\n",
    "df_with_refeature_engineered['user_votes_count'] = df_with_refeature_engineered.user_votes.apply(get_total_review_votes)\n",
    "df_with_refeature_engineered['user_review_count'] = TURBO_DF.user_review_count\n",
    "df_with_refeature_engineered['user_fans'] = TURBO_DF.fans\n",
    "df_with_refeature_engineered['user_friends_count'] = TURBO_DF.friends.apply(len)\n",
    "df_with_refeature_engineered['user_years_elite_count'] = TURBO_DF.elite.apply(len)\n",
    "df_with_refeature_engineered['user_compliments'] = TURBO_DF.compliments.apply(convert_json_dict_string_to_python_dict)\n",
    "df_with_refeature_engineered['user_compliments_cool'] = df_with_refeature_engineered.user_compliments.apply(get_number_of_compliments_that_are('cool'))\n",
    "df_with_refeature_engineered['user_compliments_cute'] = df_with_refeature_engineered.user_compliments.apply(get_number_of_compliments_that_are('cute'))\n",
    "df_with_refeature_engineered['user_compliments_funny'] = df_with_refeature_engineered.user_compliments.apply(get_number_of_compliments_that_are('funny'))\n",
    "df_with_refeature_engineered['user_compliments_hot'] = df_with_refeature_engineered.user_compliments.apply(get_number_of_compliments_that_are('hot'))\n",
    "df_with_refeature_engineered['user_compliments_list'] = df_with_refeature_engineered.user_compliments.apply(get_number_of_compliments_that_are('list'))\n",
    "df_with_refeature_engineered['user_compliments_more'] = df_with_refeature_engineered.user_compliments.apply(get_number_of_compliments_that_are('more'))\n",
    "df_with_refeature_engineered['user_compliments_note'] = df_with_refeature_engineered.user_compliments.apply(get_number_of_compliments_that_are('note'))\n",
    "df_with_refeature_engineered['user_compliments_photos'] = df_with_refeature_engineered.user_compliments.apply(get_number_of_compliments_that_are('photos'))\n",
    "df_with_refeature_engineered['user_compliments_plain'] = df_with_refeature_engineered.user_compliments.apply(get_number_of_compliments_that_are('plain'))\n",
    "df_with_refeature_engineered['user_compliments_profile'] = df_with_refeature_engineered.user_compliments.apply(get_number_of_compliments_that_are('profile'))\n",
    "df_with_refeature_engineered['user_compliments_writer'] = df_with_refeature_engineered.user_compliments.apply(get_number_of_compliments_that_are('writer'))\n",
    "\n",
    "df_with_refeature_engineered['user_average_stars'] = TURBO_DF.average_stars\n",
    "df_with_refeature_engineered['business_stars'] = TURBO_DF.business_stars\n",
    "\n",
    "df_with_refeature_engineered['positive_words_count'] = TURBO_DF.review_text.apply(count_number_of_positive_words)\n",
    "df_with_refeature_engineered['negative_words_count'] = TURBO_DF.review_text.apply(count_number_of_negative_words)\n",
    "df_with_refeature_engineered['neutral_words_count'] = df_with_refeature_engineered.review_length - (df_with_refeature_engineered.positive_words_count + df_with_refeature_engineered.negative_words_count)\n",
    "df_with_refeature_engineered['positive_words_count_over_review_length'] = df_with_refeature_engineered.positive_words_count / (1.0*df_with_refeature_engineered.review_length)\n",
    "df_with_refeature_engineered['negative_words_count_over_review_length'] = df_with_refeature_engineered.negative_words_count / (1.0*df_with_refeature_engineered.review_length)\n",
    "df_with_refeature_engineered['neutral_words_count_over_review_length'] = df_with_refeature_engineered.neutral_words_count / (1.0*df_with_refeature_engineered.review_length)\n",
    "df_with_refeature_engineered['positive_to_negative_words_count_ratio'] = df_with_refeature_engineered.positive_words_count / (1.0*df_with_refeature_engineered.negative_words_count)\n",
    "df_with_refeature_engineered['negative_to_positive_words_count_ratio'] = df_with_refeature_engineered.negative_words_count / (1.0*df_with_refeature_engineered.positive_words_count)\n",
    "\n",
    "df_with_refeature_engineered['friends_id_list'] = TURBO_DF.friends.apply(lambda s : s.replace('[', '').replace(']','').split(', '))\n",
    "check_that_userid_does_not_appear_in_its_friendid_list(df_with_refeature_engineered)\n",
    "df_with_refeature_engineered['friends_average_stars'] = df_with_refeature_engineered.friends_id_list.apply(get_average_friends_average_stars(df_with_refeature_engineered))"
   ]
  },
  {
   "cell_type": "code",
   "execution_count": 365,
   "metadata": {
    "collapsed": false
   },
   "outputs": [],
   "source": [
    "import plotly.plotly as py\n",
    "import plotly.tools as tls\n",
    "from plotly.graph_objs import *\n",
    "\n",
    "def triangularize_symmetric_matrix(x, y, z):\n",
    "    x_new = x[0:-1]\n",
    "    y_new = y[-1:0:-1]\n",
    "    tmp = np.empty(z.shape)\n",
    "    tmp.fill(np.nan)\n",
    "    for i in range(len(z)):\n",
    "        tmp[i, 0 :i] = z[i, 0:i]\n",
    "    tmp = np.flipud(tmp)\n",
    "    z_new = tmp\n",
    "    return (x_new, y_new, z_new)"
   ]
  },
  {
   "cell_type": "code",
   "execution_count": 384,
   "metadata": {
    "collapsed": false
   },
   "outputs": [
    {
     "data": {
      "text/plain": [
       "review_stars                               1.000000\n",
       "business_stars                             0.441851\n",
       "user_average_stars                         0.439100\n",
       "negative_to_positive_words_count_ratio    -0.349883\n",
       "positive_to_negative_words_count_ratio     0.276092\n",
       "negative_words_count                      -0.248268\n",
       "negative_words_count_over_review_length   -0.243917\n",
       "positive_words_count_over_review_length    0.206898\n",
       "neutral_words_count_over_review_length    -0.081850\n",
       "positive_words_count                       0.080719\n",
       "neutral_words_count                       -0.065216\n",
       "review_length                             -0.064584\n",
       "friends_average_stars                      0.052303\n",
       "review_cool                                0.046922\n",
       "user_review_count                         -0.036686\n",
       "user_compliments_more                     -0.029204\n",
       "user_compliments_funny                    -0.027014\n",
       "user_compliments_writer                   -0.026673\n",
       "user_compliments_note                     -0.025679\n",
       "user_compliments_profile                  -0.025593\n",
       "user_funny                                -0.025592\n",
       "user_compliments_cool                     -0.024261\n",
       "user_compliments_plain                    -0.023983\n",
       "review_funny                              -0.023778\n",
       "user_useful                               -0.023706\n",
       "user_compliments_hot                      -0.023008\n",
       "user_votes_count                          -0.022879\n",
       "user_cool                                 -0.019483\n",
       "business_review_count                     -0.017451\n",
       "user_compliments_list                     -0.016642\n",
       "user_compliments_photos                   -0.012000\n",
       "review_useful                             -0.011676\n",
       "user_friends_count                         0.011285\n",
       "user_compliments_cute                     -0.009787\n",
       "user_years_elite_count                     0.003875\n",
       "review_votes_count                         0.003824\n",
       "user_fans                                  0.001371\n",
       "dtype: float64"
      ]
     },
     "execution_count": 384,
     "metadata": {},
     "output_type": "execute_result"
    }
   ],
   "source": [
    "factors_affecting_review_stars_sorted_by_corr = sorted(zip(Corr_df.index, Corr_df['review_stars']), key = lambda factor_corr_pair : np.abs(factor_corr_pair[1]), reverse=True)\n",
    "series_of_factors_affecting_review_stars_sorted_by_corr = Series(OrderedDict(factors_affecting_review_stars_sorted_by_corr))\n",
    "series_of_factors_affecting_review_stars_sorted_by_corr"
   ]
  },
  {
   "cell_type": "markdown",
   "metadata": {},
   "source": [
    "So positive and negative words per review length and ratio turn out to have a good correlation of review stars"
   ]
  },
  {
   "cell_type": "code",
   "execution_count": 372,
   "metadata": {
    "collapsed": false
   },
   "outputs": [
    {
     "data": {
      "text/plain": [
       "count    36802.000000\n",
       "mean         0.018872\n",
       "std          0.014927\n",
       "min          0.000000\n",
       "25%          0.010204\n",
       "50%          0.016760\n",
       "75%          0.024691\n",
       "max          0.250000\n",
       "Name: positive_words_count_over_review_length, dtype: float64"
      ]
     },
     "execution_count": 372,
     "metadata": {},
     "output_type": "execute_result"
    }
   ],
   "source": [
    "df_with_refeature_engineered.positive_words_count_over_review_length.describe()"
   ]
  },
  {
   "cell_type": "code",
   "execution_count": 345,
   "metadata": {
    "collapsed": false
   },
   "outputs": [
    {
     "data": {
      "text/plain": [
       "count    36802.000000\n",
       "mean         0.005040\n",
       "std          0.007362\n",
       "min          0.000000\n",
       "25%          0.000000\n",
       "50%          0.003003\n",
       "75%          0.007673\n",
       "max          0.333333\n",
       "Name: negative_words_count_over_review_length, dtype: float64"
      ]
     },
     "execution_count": 345,
     "metadata": {},
     "output_type": "execute_result"
    }
   ],
   "source": [
    "df_with_refeature_engineered['negative_words_count_over_review_length'].describe()"
   ]
  },
  {
   "cell_type": "markdown",
   "metadata": {},
   "source": [
    "Let's overplay the negativity of Yelp reviews since our classifier often confuses 1,2,3 star reviews with 4 stars"
   ]
  },
  {
   "cell_type": "code",
   "execution_count": 189,
   "metadata": {
    "collapsed": false
   },
   "outputs": [],
   "source": [
    "def multiply_negative_words(by=1):\n",
    "    def apply_func(document=''):\n",
    "        negative_words = filter(lambda s : s in NEGATIVE_WORDS, document.split())\n",
    "        return document + ' ' + ' '.join(negative_words * (by-1))\n",
    "    return apply_func"
   ]
  },
  {
   "cell_type": "code",
   "execution_count": 190,
   "metadata": {
    "collapsed": false
   },
   "outputs": [
    {
     "name": "stderr",
     "output_type": "stream",
     "text": [
      "-c:4: SettingWithCopyWarning: \n",
      "A value is trying to be set on a copy of a slice from a DataFrame.\n",
      "Try using .loc[row_indexer,col_indexer] = value instead\n",
      "\n",
      "See the the caveats in the documentation: http://pandas.pydata.org/pandas-docs/stable/indexing.html#indexing-view-versus-copy\n",
      "/home/kevin/anaconda/lib/python2.7/site-packages/pandas/core/generic.py:1951: SettingWithCopyWarning: \n",
      "A value is trying to be set on a copy of a slice from a DataFrame.\n",
      "Try using .loc[row_indexer,col_indexer] = value instead\n",
      "\n",
      "See the the caveats in the documentation: http://pandas.pydata.org/pandas-docs/stable/indexing.html#indexing-view-versus-copy\n",
      "  self[name] = value\n"
     ]
    },
    {
     "name": "stdout",
     "output_type": "stream",
     "text": [
      "CPU times: user 1min 41s, sys: 228 ms, total: 1min 41s\n",
      "Wall time: 1min 41s\n",
      "awesom decor great servic hidden gem scottsdal delici uniqu menu lamb fondu great trout salad chicken interest bread basket assort muffin bread divers dessert menu bit chocol great place restaur scottsdal\n",
      "\n",
      "defalco locat thoma eaten italian deli valley place rival qualiti food excel staff custom continu return highli recommend purista chp chees steak margerit pizza tim special pizza soup italian item beat wine select fantast toni defalco owner singl wine put bottl shelv fantast wine number region place eat time week year healthi delici make call order ahead place busi defalco true desert classic year recip friendliest staff dedic excel desert desert desert desert desert desert desert desert desert\n",
      "\n",
      "defalco locat thoma eaten italian deli valley place rival qualiti food excel staff custom continu return highli recommend purista chp chees steak margerit pizza tim special pizza soup italian item beat wine select fantast toni defalco owner singl wine put bottl shelv fantast wine number region place eat time week year healthi delici make call order ahead place busi defalco true desert classic year recip friendliest staff dedic excel desert desert desert desert desert desert desert desert desert\n",
      "\n",
      "defalco locat thoma eaten italian deli valley place rival qualiti food excel staff custom continu return highli recommend purista chp chees steak margerit pizza tim special pizza soup italian item beat wine select fantast toni defalco owner singl wine put bottl shelv fantast wine number region place eat time week year healthi delici make call order ahead place busi defalco true desert classic year recip friendliest staff dedic excel desert desert desert desert desert desert desert desert desert\n",
      "\n",
      "defalco slowli perfect pizza recip coupl year crust favorit valley highli recommend pizza sweet italian sausag heavenli slowli slowli slowli slowli slowli slowli slowli slowli slowli\n",
      "\n"
     ]
    }
   ],
   "source": [
    "negativity_factor = 10\n",
    "m  = multiply_negative_words(negativity_factor)\n",
    "df_with_refeature_engineered_and_preprocessed_review_text = TURBO_DF[initial_features]\n",
    "df_with_refeature_engineered_and_preprocessed_review_text['overly_negative_review_text'] = TURBO_DF.review_text.apply(m)\n",
    "%time df_with_refeature_engineered_and_preprocessed_review_text.overly_negative_review_text = df_with_refeature_engineered_and_preprocessed_review_text.overly_negative_review_text.apply(lowercase_remove_punctuation_and_numbers_and_tokenize_and_filter_more_stopwords_and_stem_and_restring)\n",
    "\n",
    "for idx in range(5):\n",
    "    print df_with_refeature_engineered_and_preprocessed_review_text.overly_negative_review_text[idx]\n",
    "    print"
   ]
  },
  {
   "cell_type": "markdown",
   "metadata": {},
   "source": [
    "### Random Forest on 20% Training Data"
   ]
  },
  {
   "cell_type": "code",
   "execution_count": 13,
   "metadata": {
    "collapsed": false
   },
   "outputs": [],
   "source": [
    "TEST_SIZE = 0.20\n",
    "train_X, test_X, train_y, test_y = train_test_split(df_with_initial_features_and_preprocessed_review_text.review_text,\n",
    "                                                    df_with_initial_features_and_preprocessed_review_text.review_stars,\n",
    "                                                    test_size=TEST_SIZE,\n",
    "                                                    random_state=42)"
   ]
  },
  {
   "cell_type": "code",
   "execution_count": 14,
   "metadata": {
    "collapsed": false
   },
   "outputs": [],
   "source": [
    "forest100 = RandomForestClassifier(n_estimators = 100)"
   ]
  },
  {
   "cell_type": "markdown",
   "metadata": {},
   "source": [
    "Transform Yelp Reviews into feature vectors"
   ]
  },
  {
   "cell_type": "code",
   "execution_count": 15,
   "metadata": {
    "collapsed": false
   },
   "outputs": [],
   "source": [
    "random_forest_feature_matrix_train = random_forest_vectorizer.fit_transform(train_X)\n",
    "random_forest_feature_matrix_test = random_forest_vectorizer.transform(test_X)"
   ]
  },
  {
   "cell_type": "markdown",
   "metadata": {},
   "source": [
    "Make predictions"
   ]
  },
  {
   "cell_type": "code",
   "execution_count": 16,
   "metadata": {
    "collapsed": false
   },
   "outputs": [
    {
     "name": "stdout",
     "output_type": "stream",
     "text": [
      "CPU times: user 11min 3s, sys: 4.3 s, total: 11min 8s\n",
      "Wall time: 11min 10s\n"
     ]
    }
   ],
   "source": [
    "%time forest100.fit(random_forest_feature_matrix_train.toarray(), train_y)\n",
    "forest100_pred = forest100.predict(random_forest_feature_matrix_test.toarray())"
   ]
  },
  {
   "cell_type": "markdown",
   "metadata": {},
   "source": [
    "Visualize results in confusion matrix"
   ]
  },
  {
   "cell_type": "code",
   "execution_count": 17,
   "metadata": {
    "collapsed": false
   },
   "outputs": [
    {
     "name": "stderr",
     "output_type": "stream",
     "text": [
      "/usr/local/lib/python2.7/site-packages/matplotlib/artist.py:224: MatplotlibDeprecationWarning: get_axes has been deprecated in mpl 1.5, please use the\n",
      "axes property.  A removal date has not been set.\n",
      "  stacklevel=1)\n"
     ]
    },
    {
     "data": {
      "image/png": "[encoded data removed]",
      "text/plain": [
       "<matplotlib.figure.Figure at 0x11ef7c350>"
      ]
     },
     "metadata": {},
     "output_type": "display_data"
    }
   ],
   "source": [
    "random_forest_confusion_matrix = confusion_matrix(test_y, forest100_pred)\n",
    "plot_confusion_matrix(random_forest_confusion_matrix, 'Random Forest (100 Learners) Confusion Matrix with 20% Training Data',\n",
    "                      savefilename='TwentyRandomForestCM.png')"
   ]
  },
  {
   "cell_type": "code",
   "execution_count": 18,
   "metadata": {
    "collapsed": false
   },
   "outputs": [
    {
     "name": "stdout",
     "output_type": "stream",
     "text": [
      "MODEL: Random Forest (100 Learners) with 20% Training Data\n",
      "\n",
      "Precision: 0.731772391822\n",
      "Recall: 0.725832012678\n",
      "F1: 0.708075136075\n",
      "Accuracy: 0.725832012678\n",
      "\n",
      "Classification Report:\n",
      "             precision    recall  f1-score   support\n",
      "\n",
      "     1 star       0.70      0.71      0.70      3869\n",
      "     2 star       0.85      0.25      0.38      2777\n",
      "     3 star       0.82      0.35      0.49      5712\n",
      "     4 star       0.64      0.63      0.63     16248\n",
      "     5 star       0.76      0.91      0.82     28815\n",
      "\n",
      "avg / total       0.73      0.73      0.71     57421\n",
      "\n",
      "\n",
      "Precision variance: 0.029291\n",
      "\n",
      "Recall variance: 0.286069\n"
     ]
    }
   ],
   "source": [
    "print_classifier_performance_metrics('Random Forest (100 Learners) with 20% Training Data', forest100_pred)"
   ]
  },
  {
   "cell_type": "code",
   "execution_count": 19,
   "metadata": {
    "collapsed": false
   },
   "outputs": [
    {
     "name": "stderr",
     "output_type": "stream",
     "text": [
      "/usr/local/lib/python2.7/site-packages/numpy/core/fromnumeric.py:224: FutureWarning: reshape is deprecated and will raise in a subsequent release. Please use .values.reshape(...) instead\n",
      "  return reshape(newshape, order=order)\n"
     ]
    }
   ],
   "source": [
    "TEST_SIZE = 0.20\n",
    "train_X, test_X, train_y, test_y = train_test_split(df_with_initial_features_and_preprocessed_review_text.review_text,\n",
    "                                                    df_with_initial_features_and_preprocessed_review_text.review_stars,\n",
    "                                                    test_size=TEST_SIZE,\n",
    "                                                    random_state=42)\n",
    "\n",
    "ONE_STAR_LABEL = 1\n",
    "TWO_STAR_LABEL = 2\n",
    "THREE_STAR_LABEL = 3\n",
    "FOUR_STAR_LABEL = 4\n",
    "\n",
    "one_star_reviews = train_X[train_y == ONE_STAR_LABEL]\n",
    "two_star_reviews = train_X[train_y == TWO_STAR_LABEL]\n",
    "three_star_reviews = train_X[train_y == THREE_STAR_LABEL]\n",
    "four_star_reviews = train_X[train_y == FOUR_STAR_LABEL]\n",
    "\n",
    "one_star_labels = train_y[train_y == ONE_STAR_LABEL]\n",
    "two_star_labels = train_y[train_y == TWO_STAR_LABEL]\n",
    "three_star_labels = train_y[train_y == THREE_STAR_LABEL]\n",
    "\n",
    "difference_btw_number_of_4_and_1_stars = len(four_star_reviews) - len(one_star_reviews)\n",
    "difference_btw_number_of_4_and_2_stars = len(four_star_reviews) - len(two_star_reviews)\n",
    "difference_btw_number_of_4_and_3_stars = len(four_star_reviews) - len(three_star_reviews)\n",
    "\n",
    "assert (np.array([difference_btw_number_of_4_and_1_stars,\n",
    "                 difference_btw_number_of_4_and_2_stars,\n",
    "                 difference_btw_number_of_4_and_3_stars]) > 0).all()\n",
    "\n",
    "q1 = difference_btw_number_of_4_and_1_stars/len(one_star_reviews)\n",
    "r1 = difference_btw_number_of_4_and_1_stars - len(one_star_reviews) * q1\n",
    "q2 = difference_btw_number_of_4_and_2_stars/len(two_star_reviews)\n",
    "r2 = difference_btw_number_of_4_and_2_stars - len(two_star_reviews) * q2\n",
    "q3 = difference_btw_number_of_4_and_3_stars/len(three_star_reviews)\n",
    "r3 = difference_btw_number_of_4_and_3_stars - len(three_star_reviews) * q3\n",
    "\n",
    "train_X = np.vstack([np.reshape(train_X, (len(train_X), 1)),\n",
    "                     np.tile(one_star_reviews, (1, q1)).T,\n",
    "                     np.reshape(one_star_reviews[:r1], (r1, 1)),\n",
    "                     np.tile(two_star_reviews, (1, q2)).T,\n",
    "                     np.reshape(two_star_reviews[:r2], (r2, 1)),\n",
    "                     np.tile(three_star_reviews, (1, q3)).T,\n",
    "                     np.reshape(three_star_reviews[:r3], (r3, 1))])[:,0]\n",
    "\n",
    "train_y = np.vstack([np.reshape(train_y, (len(train_y), 1)),\n",
    "                     np.tile(one_star_labels, (1, q1)).T,\n",
    "                     np.reshape(one_star_labels[:r1], (r1, 1)),\n",
    "                     np.tile(two_star_labels, (1, q2)).T,\n",
    "                     np.reshape(two_star_labels[:r2], (r2, 1)),\n",
    "                     np.tile(three_star_labels, (1, q3)).T,\n",
    "                     np.reshape(three_star_labels[:r3], (r3, 1))])[:,0]"
   ]
  },
  {
   "cell_type": "code",
   "execution_count": 20,
   "metadata": {
    "collapsed": false
   },
   "outputs": [],
   "source": [
    "random_forest_feature_matrix_train = random_forest_vectorizer.fit_transform(train_X)\n",
    "random_forest_feature_matrix_test = random_forest_vectorizer.transform(test_X)"
   ]
  },
  {
   "cell_type": "code",
   "execution_count": 21,
   "metadata": {
    "collapsed": false
   },
   "outputs": [
    {
     "name": "stdout",
     "output_type": "stream",
     "text": [
      "CPU times: user 17min 48s, sys: 5.95 s, total: 17min 54s\n",
      "Wall time: 17min 57s\n"
     ]
    }
   ],
   "source": [
    "%time forest100.fit(random_forest_feature_matrix_train.toarray(), train_y)\n",
    "forest100_pred = forest100.predict(random_forest_feature_matrix_test.toarray())"
   ]
  },
  {
   "cell_type": "code",
   "execution_count": 22,
   "metadata": {
    "collapsed": false
   },
   "outputs": [
    {
     "data": {
      "image/png": "[encoded data removed]",
      "text/plain": [
       "<matplotlib.figure.Figure at 0x120291c50>"
      ]
     },
     "metadata": {},
     "output_type": "display_data"
    }
   ],
   "source": [
    "random_forest_confusion_matrix = confusion_matrix(test_y, forest100_pred)\n",
    "plot_confusion_matrix(random_forest_confusion_matrix, 'Random Forest (100 Learners) Confusion Matrix with 20% Training Data with Oversampling',\n",
    "                      savefilename='TwentyOversamplingRandomForestCM.png')"
   ]
  },
  {
   "cell_type": "code",
   "execution_count": 23,
   "metadata": {
    "collapsed": false
   },
   "outputs": [
    {
     "name": "stdout",
     "output_type": "stream",
     "text": [
      "MODEL: Random Forest (100 Learners) with 20% Training Data\n",
      "\n",
      "Precision: 0.7175643803\n",
      "Recall: 0.72508315773\n",
      "F1: 0.710133845734\n",
      "Accuracy: 0.72508315773\n",
      "\n",
      "Classification Report:\n",
      "             precision    recall  f1-score   support\n",
      "\n",
      "     1 star       0.63      0.77      0.69      3869\n",
      "     2 star       0.63      0.30      0.41      2777\n",
      "     3 star       0.62      0.45      0.52      5712\n",
      "     4 star       0.72      0.56      0.63     16248\n",
      "     5 star       0.76      0.91      0.83     28815\n",
      "\n",
      "avg / total       0.72      0.73      0.71     57421\n",
      "\n",
      "\n",
      "Precision variance: 0.014963\n",
      "\n",
      "Recall variance: 0.238742\n"
     ]
    }
   ],
   "source": [
    "print_classifier_performance_metrics('Random Forest (100 Learners) with 20% Training Data', forest100_pred)"
   ]
  },
  {
   "cell_type": "code",
   "execution_count": null,
   "metadata": {
    "collapsed": false
   },
   "outputs": [],
   "source": []
  }
 ],
 "metadata": {
  "kernelspec": {
   "display_name": "Python 2",
   "language": "python",
   "name": "python2"
  },
  "language_info": {
   "codemirror_mode": {
    "name": "ipython",
    "version": 2
   },
   "file_extension": ".py",
   "mimetype": "text/x-python",
   "name": "python",
   "nbconvert_exporter": "python",
   "pygments_lexer": "ipython2",
   "version": "2.7.12"
  }
 },
 "nbformat": 4,
 "nbformat_minor": 0
}
