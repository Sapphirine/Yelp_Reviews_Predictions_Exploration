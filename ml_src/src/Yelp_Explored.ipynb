{
 "cells": [
  {
   "cell_type": "markdown",
   "metadata": {},
   "source": [
    "# Problem Statement + EDA\n",
    "\n",
    "The approach I plan to take with this data is to look for trends relating to the review counts of users and businesses and whether the magnitude of reviews affects their overall rating. I will use some data visualizations to look for more obvious trends and use a model to determine feature importance for the less obvious trends. I also believe I can determine relationships between the star rating a business got based on the sentiment in the review text.\n",
    "\n",
    "Some risks I may face are the magnitude of the dataset as well as assuming ther reviews are consistent enough with sentimental words. There may also be difficulty of finding trends while using data from as many locations as is provided by Yelp. To combat that I will focus my studies on a small region. \n"
   ]
  },
  {
   "cell_type": "code",
   "execution_count": 2,
   "metadata": {
    "collapsed": false
   },
   "outputs": [],
   "source": [
    "import pandas as pd\n",
    "import matplotlib.pyplot as plt\n",
    "import seaborn as sns\n",
    "%matplotlib inline"
   ]
  },
  {
   "cell_type": "markdown",
   "metadata": {},
   "source": [
    "To start I'll load the user dataset and the business dataset and I'll perform some basic EDA."
   ]
  },
  {
   "cell_type": "code",
   "execution_count": 3,
   "metadata": {
    "collapsed": false
   },
   "outputs": [],
   "source": [
    "with open('/Users/tony/Documents/yelp_dataset_challenge_academic_dataset/yelp_academic_dataset_user.json', 'rb') as f:\n",
    "    data = f.readlines()\n",
    "data = map(lambda x: x.rstrip(), data)\n",
    "data_json_str = \"[\" + ','.join(data) + \"]\"\n",
    "user_df = pd.read_json(data_json_str)"
   ]
  },
  {
   "cell_type": "code",
   "execution_count": 4,
   "metadata": {
    "collapsed": false
   },
   "outputs": [],
   "source": [
    "with open('/Users/tony/Documents/yelp_dataset_challenge_academic_dataset/yelp_academic_dataset_review.json', 'rb') as f:\n",
    "    data = f.readlines()\n",
    "data = map(lambda x: x.rstrip(), data)\n",
    "data_json_str = \"[\" + ','.join(data) + \"]\"\n",
    "review_df = pd.read_json(data_json_str)"
   ]
  },
  {
   "cell_type": "code",
   "execution_count": 5,
   "metadata": {
    "collapsed": true
   },
   "outputs": [],
   "source": [
    "with open('/Users/tony/Documents/yelp_dataset_challenge_academic_dataset/yelp_academic_dataset_business.json', 'rb') as f:\n",
    "    data = f.readlines()\n",
    "data = map(lambda x: x.rstrip(), data)\n",
    "data_json_str = \"[\" + ','.join(data) + \"]\"\n",
    "business_df = pd.read_json(data_json_str)"
   ]
  },
  {
   "cell_type": "code",
   "execution_count": 7,
   "metadata": {
    "collapsed": false
   },
   "outputs": [],
   "source": [
    "business_lv = business_df.loc[business_df['city'] == 'Las Vegas']"
   ]
  },
  {
   "cell_type": "code",
   "execution_count": 8,
   "metadata": {
    "collapsed": false
   },
   "outputs": [
    {
     "data": {
      "text/html": [
       "<div>\n",
       "<table border=\"1\" class=\"dataframe\">\n",
       "  <thead>\n",
       "    <tr style=\"text-align: right;\">\n",
       "      <th></th>\n",
       "      <th>attributes</th>\n",
       "      <th>business_id</th>\n",
       "      <th>categories</th>\n",
       "      <th>city</th>\n",
       "      <th>full_address</th>\n",
       "      <th>hours</th>\n",
       "      <th>latitude</th>\n",
       "      <th>longitude</th>\n",
       "      <th>name</th>\n",
       "      <th>neighborhoods</th>\n",
       "      <th>open</th>\n",
       "      <th>review_count</th>\n",
       "      <th>stars</th>\n",
       "      <th>state</th>\n",
       "      <th>type</th>\n",
       "    </tr>\n",
       "  </thead>\n",
       "  <tbody>\n",
       "    <tr>\n",
       "      <th>8420</th>\n",
       "      <td>{u'By Appointment Only': True, u'Accepts Insur...</td>\n",
       "      <td>F7l0UuTvf_734UMAwsJfkg</td>\n",
       "      <td>[Doctors, Medical Centers, Health &amp; Medical, F...</td>\n",
       "      <td>Las Vegas</td>\n",
       "      <td>1701 Bearden Dr\\nDowntown\\nLas Vegas, NV 89106</td>\n",
       "      <td>{}</td>\n",
       "      <td>36.161517</td>\n",
       "      <td>-115.164011</td>\n",
       "      <td>Apex Medical Center</td>\n",
       "      <td>[Downtown]</td>\n",
       "      <td>True</td>\n",
       "      <td>4</td>\n",
       "      <td>3.0</td>\n",
       "      <td>NV</td>\n",
       "      <td>business</td>\n",
       "    </tr>\n",
       "    <tr>\n",
       "      <th>8426</th>\n",
       "      <td>{u'Price Range': 2, u'Accepts Credit Cards': T...</td>\n",
       "      <td>uzztTCsg3XAKlYqmLO40aw</td>\n",
       "      <td>[Books, Mags, Music &amp; Video, Shopping, Booksto...</td>\n",
       "      <td>Las Vegas</td>\n",
       "      <td>5835 S Eastern Ave\\nSoutheast\\nLas Vegas, NV 8...</td>\n",
       "      <td>{u'Monday': {u'close': u'22:00', u'open': u'10...</td>\n",
       "      <td>36.083936</td>\n",
       "      <td>-115.119422</td>\n",
       "      <td>Psychic Eye Book Shops</td>\n",
       "      <td>[Southeast]</td>\n",
       "      <td>True</td>\n",
       "      <td>20</td>\n",
       "      <td>4.0</td>\n",
       "      <td>NV</td>\n",
       "      <td>business</td>\n",
       "    </tr>\n",
       "    <tr>\n",
       "      <th>8439</th>\n",
       "      <td>{u'By Appointment Only': False, u'Accepts Cred...</td>\n",
       "      <td>YWLO4XUYsyMyEc0ciUAp0Q</td>\n",
       "      <td>[Home Services, Real Estate, Apartments]</td>\n",
       "      <td>Las Vegas</td>\n",
       "      <td>80 South Gibson Rd\\nLas Vegas, NV 89012</td>\n",
       "      <td>{u'Monday': {u'close': u'18:00', u'open': u'09...</td>\n",
       "      <td>36.030471</td>\n",
       "      <td>-115.027479</td>\n",
       "      <td>Timberlake</td>\n",
       "      <td>[]</td>\n",
       "      <td>False</td>\n",
       "      <td>11</td>\n",
       "      <td>3.0</td>\n",
       "      <td>NV</td>\n",
       "      <td>business</td>\n",
       "    </tr>\n",
       "    <tr>\n",
       "      <th>8445</th>\n",
       "      <td>{u'Price Range': 2, u'Accepts Credit Cards': T...</td>\n",
       "      <td>IspFZDcpu9W5NvvJ7QgJZg</td>\n",
       "      <td>[Women's Clothing, Men's Clothing, Fashion, Sh...</td>\n",
       "      <td>Las Vegas</td>\n",
       "      <td>The Forum Shops At Caesars\\n3500 Las Vegas Blv...</td>\n",
       "      <td>{u'Monday': {u'close': u'23:00', u'open': u'10...</td>\n",
       "      <td>36.119037</td>\n",
       "      <td>-115.173219</td>\n",
       "      <td>Gap</td>\n",
       "      <td>[The Strip]</td>\n",
       "      <td>True</td>\n",
       "      <td>8</td>\n",
       "      <td>4.5</td>\n",
       "      <td>NV</td>\n",
       "      <td>business</td>\n",
       "    </tr>\n",
       "    <tr>\n",
       "      <th>8450</th>\n",
       "      <td>{u'By Appointment Only': False, u'Accepts Cred...</td>\n",
       "      <td>Dvulg9cc3XHkt5DkBUekhw</td>\n",
       "      <td>[Hair Salons, Beauty &amp; Spas]</td>\n",
       "      <td>Las Vegas</td>\n",
       "      <td>467 E Silverado Ranch Blvd\\nSte 175\\nSoutheast...</td>\n",
       "      <td>{u'Monday': {u'close': u'21:00', u'open': u'09...</td>\n",
       "      <td>36.012518</td>\n",
       "      <td>-115.152650</td>\n",
       "      <td>Great Clips</td>\n",
       "      <td>[Southeast]</td>\n",
       "      <td>True</td>\n",
       "      <td>17</td>\n",
       "      <td>2.5</td>\n",
       "      <td>NV</td>\n",
       "      <td>business</td>\n",
       "    </tr>\n",
       "  </tbody>\n",
       "</table>\n",
       "</div>"
      ],
      "text/plain": [
       "                                             attributes  \\\n",
       "8420  {u'By Appointment Only': True, u'Accepts Insur...   \n",
       "8426  {u'Price Range': 2, u'Accepts Credit Cards': T...   \n",
       "8439  {u'By Appointment Only': False, u'Accepts Cred...   \n",
       "8445  {u'Price Range': 2, u'Accepts Credit Cards': T...   \n",
       "8450  {u'By Appointment Only': False, u'Accepts Cred...   \n",
       "\n",
       "                 business_id  \\\n",
       "8420  F7l0UuTvf_734UMAwsJfkg   \n",
       "8426  uzztTCsg3XAKlYqmLO40aw   \n",
       "8439  YWLO4XUYsyMyEc0ciUAp0Q   \n",
       "8445  IspFZDcpu9W5NvvJ7QgJZg   \n",
       "8450  Dvulg9cc3XHkt5DkBUekhw   \n",
       "\n",
       "                                             categories       city  \\\n",
       "8420  [Doctors, Medical Centers, Health & Medical, F...  Las Vegas   \n",
       "8426  [Books, Mags, Music & Video, Shopping, Booksto...  Las Vegas   \n",
       "8439           [Home Services, Real Estate, Apartments]  Las Vegas   \n",
       "8445  [Women's Clothing, Men's Clothing, Fashion, Sh...  Las Vegas   \n",
       "8450                       [Hair Salons, Beauty & Spas]  Las Vegas   \n",
       "\n",
       "                                           full_address  \\\n",
       "8420     1701 Bearden Dr\\nDowntown\\nLas Vegas, NV 89106   \n",
       "8426  5835 S Eastern Ave\\nSoutheast\\nLas Vegas, NV 8...   \n",
       "8439            80 South Gibson Rd\\nLas Vegas, NV 89012   \n",
       "8445  The Forum Shops At Caesars\\n3500 Las Vegas Blv...   \n",
       "8450  467 E Silverado Ranch Blvd\\nSte 175\\nSoutheast...   \n",
       "\n",
       "                                                  hours   latitude  \\\n",
       "8420                                                 {}  36.161517   \n",
       "8426  {u'Monday': {u'close': u'22:00', u'open': u'10...  36.083936   \n",
       "8439  {u'Monday': {u'close': u'18:00', u'open': u'09...  36.030471   \n",
       "8445  {u'Monday': {u'close': u'23:00', u'open': u'10...  36.119037   \n",
       "8450  {u'Monday': {u'close': u'21:00', u'open': u'09...  36.012518   \n",
       "\n",
       "       longitude                    name neighborhoods   open  review_count  \\\n",
       "8420 -115.164011     Apex Medical Center    [Downtown]   True             4   \n",
       "8426 -115.119422  Psychic Eye Book Shops   [Southeast]   True            20   \n",
       "8439 -115.027479              Timberlake            []  False            11   \n",
       "8445 -115.173219                     Gap   [The Strip]   True             8   \n",
       "8450 -115.152650             Great Clips   [Southeast]   True            17   \n",
       "\n",
       "      stars state      type  \n",
       "8420    3.0    NV  business  \n",
       "8426    4.0    NV  business  \n",
       "8439    3.0    NV  business  \n",
       "8445    4.5    NV  business  \n",
       "8450    2.5    NV  business  "
      ]
     },
     "execution_count": 8,
     "metadata": {},
     "output_type": "execute_result"
    }
   ],
   "source": [
    "business_lv.head()"
   ]
  },
  {
   "cell_type": "code",
   "execution_count": 10,
   "metadata": {
    "collapsed": true
   },
   "outputs": [],
   "source": [
    "bid = list(set(business_lv.business_id))"
   ]
  },
  {
   "cell_type": "code",
   "execution_count": 11,
   "metadata": {
    "collapsed": false
   },
   "outputs": [
    {
     "name": "stdout",
     "output_type": "stream",
     "text": [
      "19328\n"
     ]
    }
   ],
   "source": [
    "print len(bid)"
   ]
  },
  {
   "cell_type": "code",
   "execution_count": 12,
   "metadata": {
    "collapsed": true
   },
   "outputs": [],
   "source": [
    "review_lv = review_df[review_df['business_id'].isin(bid)]"
   ]
  },
  {
   "cell_type": "code",
   "execution_count": 13,
   "metadata": {
    "collapsed": false
   },
   "outputs": [
    {
     "data": {
      "text/html": [
       "<div>\n",
       "<table border=\"1\" class=\"dataframe\">\n",
       "  <thead>\n",
       "    <tr style=\"text-align: right;\">\n",
       "      <th></th>\n",
       "      <th>business_id</th>\n",
       "      <th>date</th>\n",
       "      <th>review_id</th>\n",
       "      <th>stars</th>\n",
       "      <th>text</th>\n",
       "      <th>type</th>\n",
       "      <th>user_id</th>\n",
       "      <th>votes</th>\n",
       "    </tr>\n",
       "  </thead>\n",
       "  <tbody>\n",
       "    <tr>\n",
       "      <th>201319</th>\n",
       "      <td>F7l0UuTvf_734UMAwsJfkg</td>\n",
       "      <td>2015-04-07</td>\n",
       "      <td>YKZsmyCqvUVvquK_IU7i1A</td>\n",
       "      <td>5</td>\n",
       "      <td>I have been a patient over a year now at Apex ...</td>\n",
       "      <td>review</td>\n",
       "      <td>3ge0SYg8iuup1JoqilpOZw</td>\n",
       "      <td>{u'funny': 0, u'useful': 0, u'cool': 0}</td>\n",
       "    </tr>\n",
       "    <tr>\n",
       "      <th>201320</th>\n",
       "      <td>F7l0UuTvf_734UMAwsJfkg</td>\n",
       "      <td>2015-06-23</td>\n",
       "      <td>7sRpl9GLVYQtu0hM-lxiAQ</td>\n",
       "      <td>5</td>\n",
       "      <td>I have been going to Dr Ourene for several yea...</td>\n",
       "      <td>review</td>\n",
       "      <td>_Y1DxYnmu82EGQKBgSsDvw</td>\n",
       "      <td>{u'funny': 0, u'useful': 0, u'cool': 0}</td>\n",
       "    </tr>\n",
       "    <tr>\n",
       "      <th>201321</th>\n",
       "      <td>F7l0UuTvf_734UMAwsJfkg</td>\n",
       "      <td>2016-02-26</td>\n",
       "      <td>JZDdxC20lKwZ-ZYRCaPbKA</td>\n",
       "      <td>1</td>\n",
       "      <td>I went here only because it was close to my ho...</td>\n",
       "      <td>review</td>\n",
       "      <td>C4s2oJ3h814KYQkDxeKOdg</td>\n",
       "      <td>{u'funny': 0, u'useful': 0, u'cool': 0}</td>\n",
       "    </tr>\n",
       "    <tr>\n",
       "      <th>201471</th>\n",
       "      <td>uzztTCsg3XAKlYqmLO40aw</td>\n",
       "      <td>2010-11-19</td>\n",
       "      <td>S412bghmc2IgqOZUiKmwHQ</td>\n",
       "      <td>4</td>\n",
       "      <td>It's not often that you step into a store and ...</td>\n",
       "      <td>review</td>\n",
       "      <td>fPHLPrymsyb6WSFFKoMrTQ</td>\n",
       "      <td>{u'funny': 0, u'useful': 2, u'cool': 2}</td>\n",
       "    </tr>\n",
       "    <tr>\n",
       "      <th>201472</th>\n",
       "      <td>uzztTCsg3XAKlYqmLO40aw</td>\n",
       "      <td>2011-09-11</td>\n",
       "      <td>vuhZ51Sz1YQpZ4nuyo_Llg</td>\n",
       "      <td>4</td>\n",
       "      <td>I know that sometimes this subject gives peopl...</td>\n",
       "      <td>review</td>\n",
       "      <td>PV5voYSD43Cn_3gHmxG7DA</td>\n",
       "      <td>{u'funny': 0, u'useful': 8, u'cool': 4}</td>\n",
       "    </tr>\n",
       "  </tbody>\n",
       "</table>\n",
       "</div>"
      ],
      "text/plain": [
       "                   business_id       date               review_id  stars  \\\n",
       "201319  F7l0UuTvf_734UMAwsJfkg 2015-04-07  YKZsmyCqvUVvquK_IU7i1A      5   \n",
       "201320  F7l0UuTvf_734UMAwsJfkg 2015-06-23  7sRpl9GLVYQtu0hM-lxiAQ      5   \n",
       "201321  F7l0UuTvf_734UMAwsJfkg 2016-02-26  JZDdxC20lKwZ-ZYRCaPbKA      1   \n",
       "201471  uzztTCsg3XAKlYqmLO40aw 2010-11-19  S412bghmc2IgqOZUiKmwHQ      4   \n",
       "201472  uzztTCsg3XAKlYqmLO40aw 2011-09-11  vuhZ51Sz1YQpZ4nuyo_Llg      4   \n",
       "\n",
       "                                                     text    type  \\\n",
       "201319  I have been a patient over a year now at Apex ...  review   \n",
       "201320  I have been going to Dr Ourene for several yea...  review   \n",
       "201321  I went here only because it was close to my ho...  review   \n",
       "201471  It's not often that you step into a store and ...  review   \n",
       "201472  I know that sometimes this subject gives peopl...  review   \n",
       "\n",
       "                       user_id                                    votes  \n",
       "201319  3ge0SYg8iuup1JoqilpOZw  {u'funny': 0, u'useful': 0, u'cool': 0}  \n",
       "201320  _Y1DxYnmu82EGQKBgSsDvw  {u'funny': 0, u'useful': 0, u'cool': 0}  \n",
       "201321  C4s2oJ3h814KYQkDxeKOdg  {u'funny': 0, u'useful': 0, u'cool': 0}  \n",
       "201471  fPHLPrymsyb6WSFFKoMrTQ  {u'funny': 0, u'useful': 2, u'cool': 2}  \n",
       "201472  PV5voYSD43Cn_3gHmxG7DA  {u'funny': 0, u'useful': 8, u'cool': 4}  "
      ]
     },
     "execution_count": 13,
     "metadata": {},
     "output_type": "execute_result"
    }
   ],
   "source": [
    "review_lv.head()"
   ]
  },
  {
   "cell_type": "code",
   "execution_count": 14,
   "metadata": {
    "collapsed": true
   },
   "outputs": [],
   "source": [
    "review_lv.to_json(path_or_buf='/Users/tony/Documents/business_lv.json')"
   ]
  },
  {
   "cell_type": "code",
   "execution_count": 9,
   "metadata": {
    "collapsed": false
   },
   "outputs": [
    {
     "data": {
      "text/plain": [
       "business_id            object\n",
       "date           datetime64[ns]\n",
       "review_id              object\n",
       "stars                   int64\n",
       "text                   object\n",
       "type                   object\n",
       "user_id                object\n",
       "votes                  object\n",
       "dtype: object"
      ]
     },
     "execution_count": 9,
     "metadata": {},
     "output_type": "execute_result"
    }
   ],
   "source": [
    "review_df.dtypes"
   ]
  },
  {
   "cell_type": "markdown",
   "metadata": {},
   "source": [
    "The columns that interest me most are 'average_stars', 'fans', 'review_count' and 'yelping_since'. These values can be plotted to see any relationships. the 'compliments' and 'votes' must be iterated through, and separated into columns to analyze it better.  "
   ]
  },
  {
   "cell_type": "code",
   "execution_count": 5,
   "metadata": {
    "collapsed": false
   },
   "outputs": [
    {
     "data": {
      "text/html": [
       "<div>\n",
       "<table border=\"1\" class=\"dataframe\">\n",
       "  <thead>\n",
       "    <tr style=\"text-align: right;\">\n",
       "      <th></th>\n",
       "      <th>average_stars</th>\n",
       "      <th>compliments</th>\n",
       "      <th>elite</th>\n",
       "      <th>fans</th>\n",
       "      <th>friends</th>\n",
       "      <th>name</th>\n",
       "      <th>review_count</th>\n",
       "      <th>type</th>\n",
       "      <th>user_id</th>\n",
       "      <th>votes</th>\n",
       "      <th>yelping_since</th>\n",
       "    </tr>\n",
       "  </thead>\n",
       "  <tbody>\n",
       "    <tr>\n",
       "      <th>0</th>\n",
       "      <td>4.14</td>\n",
       "      <td>{u'profile': 8, u'cute': 15, u'funny': 11, u'p...</td>\n",
       "      <td>[2005, 2006]</td>\n",
       "      <td>69</td>\n",
       "      <td>[rpOyqD_893cqmDAtJLbdog, 4U9kSBLuBDU391x6bxU-Y...</td>\n",
       "      <td>Russel</td>\n",
       "      <td>108</td>\n",
       "      <td>user</td>\n",
       "      <td>18kPq7GPye-YQ3LyKyAZPw</td>\n",
       "      <td>{u'funny': 167, u'useful': 282, u'cool': 246}</td>\n",
       "      <td>2004-10</td>\n",
       "    </tr>\n",
       "    <tr>\n",
       "      <th>1</th>\n",
       "      <td>3.67</td>\n",
       "      <td>{u'profile': 117, u'cute': 204, u'funny': 594,...</td>\n",
       "      <td>[2005, 2006, 2007, 2008, 2009, 2010, 2011, 201...</td>\n",
       "      <td>1345</td>\n",
       "      <td>[18kPq7GPye-YQ3LyKyAZPw, 4U9kSBLuBDU391x6bxU-Y...</td>\n",
       "      <td>Jeremy</td>\n",
       "      <td>1292</td>\n",
       "      <td>user</td>\n",
       "      <td>rpOyqD_893cqmDAtJLbdog</td>\n",
       "      <td>{u'funny': 8399, u'useful': 15242, u'cool': 12...</td>\n",
       "      <td>2004-10</td>\n",
       "    </tr>\n",
       "    <tr>\n",
       "      <th>2</th>\n",
       "      <td>3.68</td>\n",
       "      <td>{u'profile': 9, u'cute': 22, u'funny': 96, u'p...</td>\n",
       "      <td>[2005, 2006, 2007, 2008, 2009, 2010, 2011, 201...</td>\n",
       "      <td>105</td>\n",
       "      <td>[18kPq7GPye-YQ3LyKyAZPw, rpOyqD_893cqmDAtJLbdo...</td>\n",
       "      <td>Michael</td>\n",
       "      <td>395</td>\n",
       "      <td>user</td>\n",
       "      <td>4U9kSBLuBDU391x6bxU-YA</td>\n",
       "      <td>{u'funny': 722, u'useful': 1349, u'cool': 657}</td>\n",
       "      <td>2004-10</td>\n",
       "    </tr>\n",
       "    <tr>\n",
       "      <th>3</th>\n",
       "      <td>4.64</td>\n",
       "      <td>{u'cute': 2}</td>\n",
       "      <td>[]</td>\n",
       "      <td>2</td>\n",
       "      <td>[18kPq7GPye-YQ3LyKyAZPw, rpOyqD_893cqmDAtJLbdo...</td>\n",
       "      <td>Ken</td>\n",
       "      <td>11</td>\n",
       "      <td>user</td>\n",
       "      <td>fHtTaujcyKvXglE33Z5yIw</td>\n",
       "      <td>{u'funny': 1, u'useful': 11, u'cool': 5}</td>\n",
       "      <td>2004-10</td>\n",
       "    </tr>\n",
       "    <tr>\n",
       "      <th>4</th>\n",
       "      <td>3.80</td>\n",
       "      <td>{u'cute': 2, u'plain': 2, u'writer': 2, u'note...</td>\n",
       "      <td>[2005]</td>\n",
       "      <td>5</td>\n",
       "      <td>[rpOyqD_893cqmDAtJLbdog, HDQixQ-WZEV0LVPJlIGQe...</td>\n",
       "      <td>Katherine</td>\n",
       "      <td>66</td>\n",
       "      <td>user</td>\n",
       "      <td>SIBCL7HBkrP4llolm4SC2A</td>\n",
       "      <td>{u'funny': 13, u'useful': 37, u'cool': 16}</td>\n",
       "      <td>2004-10</td>\n",
       "    </tr>\n",
       "  </tbody>\n",
       "</table>\n",
       "</div>"
      ],
      "text/plain": [
       "   average_stars                                        compliments  \\\n",
       "0           4.14  {u'profile': 8, u'cute': 15, u'funny': 11, u'p...   \n",
       "1           3.67  {u'profile': 117, u'cute': 204, u'funny': 594,...   \n",
       "2           3.68  {u'profile': 9, u'cute': 22, u'funny': 96, u'p...   \n",
       "3           4.64                                       {u'cute': 2}   \n",
       "4           3.80  {u'cute': 2, u'plain': 2, u'writer': 2, u'note...   \n",
       "\n",
       "                                               elite  fans  \\\n",
       "0                                       [2005, 2006]    69   \n",
       "1  [2005, 2006, 2007, 2008, 2009, 2010, 2011, 201...  1345   \n",
       "2  [2005, 2006, 2007, 2008, 2009, 2010, 2011, 201...   105   \n",
       "3                                                 []     2   \n",
       "4                                             [2005]     5   \n",
       "\n",
       "                                             friends       name  review_count  \\\n",
       "0  [rpOyqD_893cqmDAtJLbdog, 4U9kSBLuBDU391x6bxU-Y...     Russel           108   \n",
       "1  [18kPq7GPye-YQ3LyKyAZPw, 4U9kSBLuBDU391x6bxU-Y...     Jeremy          1292   \n",
       "2  [18kPq7GPye-YQ3LyKyAZPw, rpOyqD_893cqmDAtJLbdo...    Michael           395   \n",
       "3  [18kPq7GPye-YQ3LyKyAZPw, rpOyqD_893cqmDAtJLbdo...        Ken            11   \n",
       "4  [rpOyqD_893cqmDAtJLbdog, HDQixQ-WZEV0LVPJlIGQe...  Katherine            66   \n",
       "\n",
       "   type                 user_id  \\\n",
       "0  user  18kPq7GPye-YQ3LyKyAZPw   \n",
       "1  user  rpOyqD_893cqmDAtJLbdog   \n",
       "2  user  4U9kSBLuBDU391x6bxU-YA   \n",
       "3  user  fHtTaujcyKvXglE33Z5yIw   \n",
       "4  user  SIBCL7HBkrP4llolm4SC2A   \n",
       "\n",
       "                                               votes yelping_since  \n",
       "0      {u'funny': 167, u'useful': 282, u'cool': 246}       2004-10  \n",
       "1  {u'funny': 8399, u'useful': 15242, u'cool': 12...       2004-10  \n",
       "2     {u'funny': 722, u'useful': 1349, u'cool': 657}       2004-10  \n",
       "3           {u'funny': 1, u'useful': 11, u'cool': 5}       2004-10  \n",
       "4         {u'funny': 13, u'useful': 37, u'cool': 16}       2004-10  "
      ]
     },
     "execution_count": 5,
     "metadata": {},
     "output_type": "execute_result"
    }
   ],
   "source": [
    "user_df.head()"
   ]
  },
  {
   "cell_type": "markdown",
   "metadata": {},
   "source": [
    "The 'yelping_since' column is a date but the data type is not datetime so we must change it in order to work with it as a time series."
   ]
  },
  {
   "cell_type": "code",
   "execution_count": 6,
   "metadata": {
    "collapsed": false
   },
   "outputs": [
    {
     "data": {
      "text/plain": [
       "average_stars    float64\n",
       "compliments       object\n",
       "elite             object\n",
       "fans               int64\n",
       "friends           object\n",
       "name              object\n",
       "review_count       int64\n",
       "type              object\n",
       "user_id           object\n",
       "votes             object\n",
       "yelping_since     object\n",
       "dtype: object"
      ]
     },
     "execution_count": 6,
     "metadata": {},
     "output_type": "execute_result"
    }
   ],
   "source": [
    "user_df.dtypes"
   ]
  },
  {
   "cell_type": "code",
   "execution_count": 7,
   "metadata": {
    "collapsed": true
   },
   "outputs": [],
   "source": [
    "user_df['yelping_since']=pd.to_datetime(user_df['yelping_since'], format='%Y-%m')"
   ]
  },
  {
   "cell_type": "code",
   "execution_count": 8,
   "metadata": {
    "collapsed": true
   },
   "outputs": [],
   "source": [
    "users=pd.DataFrame(data=user_df,columns=['average_stars', 'fans', 'review_count', 'votes', 'yelping_since'])"
   ]
  },
  {
   "cell_type": "markdown",
   "metadata": {},
   "source": [
    "From the pairplot we see that people with the most fans and people who have reviewed the most have an average_star value in the range of 3 to 4.5."
   ]
  },
  {
   "cell_type": "code",
   "execution_count": 9,
   "metadata": {
    "collapsed": false
   },
   "outputs": [
    {
     "data": {
      "text/plain": [
       "<seaborn.axisgrid.PairGrid at 0x1078a5810>"
      ]
     },
     "execution_count": 9,
     "metadata": {},
     "output_type": "execute_result"
    },
    {
     "data": {
      "image/png": "[encoded data removed]",
      "text/plain": [
       "<matplotlib.figure.Figure at 0x1078a5b90>"
      ]
     },
     "metadata": {},
     "output_type": "display_data"
    }
   ],
   "source": [
    "sns.pairplot(users)"
   ]
  },
  {
   "cell_type": "code",
   "execution_count": null,
   "metadata": {
    "collapsed": true
   },
   "outputs": [],
   "source": [
    "print type"
   ]
  },
  {
   "cell_type": "code",
   "execution_count": 11,
   "metadata": {
    "collapsed": false
   },
   "outputs": [
    {
     "data": {
      "text/html": [
       "<div>\n",
       "<table border=\"1\" class=\"dataframe\">\n",
       "  <thead>\n",
       "    <tr style=\"text-align: right;\">\n",
       "      <th></th>\n",
       "      <th>cool</th>\n",
       "      <th>cute</th>\n",
       "      <th>funny</th>\n",
       "      <th>hot</th>\n",
       "      <th>list</th>\n",
       "      <th>more</th>\n",
       "      <th>note</th>\n",
       "      <th>photos</th>\n",
       "      <th>plain</th>\n",
       "      <th>profile</th>\n",
       "      <th>writer</th>\n",
       "    </tr>\n",
       "  </thead>\n",
       "  <tbody>\n",
       "    <tr>\n",
       "      <th>0</th>\n",
       "      <td>78.0</td>\n",
       "      <td>15.0</td>\n",
       "      <td>11.0</td>\n",
       "      <td>48.0</td>\n",
       "      <td>0.0</td>\n",
       "      <td>3.0</td>\n",
       "      <td>20.0</td>\n",
       "      <td>14.0</td>\n",
       "      <td>25.0</td>\n",
       "      <td>8.0</td>\n",
       "      <td>9.0</td>\n",
       "    </tr>\n",
       "    <tr>\n",
       "      <th>1</th>\n",
       "      <td>1642.0</td>\n",
       "      <td>206.0</td>\n",
       "      <td>580.0</td>\n",
       "      <td>1094.0</td>\n",
       "      <td>38.0</td>\n",
       "      <td>134.0</td>\n",
       "      <td>611.0</td>\n",
       "      <td>330.0</td>\n",
       "      <td>959.0</td>\n",
       "      <td>116.0</td>\n",
       "      <td>327.0</td>\n",
       "    </tr>\n",
       "    <tr>\n",
       "      <th>2</th>\n",
       "      <td>145.0</td>\n",
       "      <td>23.0</td>\n",
       "      <td>120.0</td>\n",
       "      <td>101.0</td>\n",
       "      <td>4.0</td>\n",
       "      <td>19.0</td>\n",
       "      <td>83.0</td>\n",
       "      <td>24.0</td>\n",
       "      <td>89.0</td>\n",
       "      <td>9.0</td>\n",
       "      <td>24.0</td>\n",
       "    </tr>\n",
       "    <tr>\n",
       "      <th>3</th>\n",
       "      <td>0.0</td>\n",
       "      <td>2.0</td>\n",
       "      <td>0.0</td>\n",
       "      <td>0.0</td>\n",
       "      <td>0.0</td>\n",
       "      <td>0.0</td>\n",
       "      <td>0.0</td>\n",
       "      <td>0.0</td>\n",
       "      <td>0.0</td>\n",
       "      <td>0.0</td>\n",
       "      <td>0.0</td>\n",
       "    </tr>\n",
       "    <tr>\n",
       "      <th>4</th>\n",
       "      <td>1.0</td>\n",
       "      <td>2.0</td>\n",
       "      <td>0.0</td>\n",
       "      <td>1.0</td>\n",
       "      <td>0.0</td>\n",
       "      <td>1.0</td>\n",
       "      <td>1.0</td>\n",
       "      <td>0.0</td>\n",
       "      <td>2.0</td>\n",
       "      <td>0.0</td>\n",
       "      <td>2.0</td>\n",
       "    </tr>\n",
       "  </tbody>\n",
       "</table>\n",
       "</div>"
      ],
      "text/plain": [
       "     cool   cute  funny     hot  list   more   note  photos  plain  profile  \\\n",
       "0    78.0   15.0   11.0    48.0   0.0    3.0   20.0    14.0   25.0      8.0   \n",
       "1  1642.0  206.0  580.0  1094.0  38.0  134.0  611.0   330.0  959.0    116.0   \n",
       "2   145.0   23.0  120.0   101.0   4.0   19.0   83.0    24.0   89.0      9.0   \n",
       "3     0.0    2.0    0.0     0.0   0.0    0.0    0.0     0.0    0.0      0.0   \n",
       "4     1.0    2.0    0.0     1.0   0.0    1.0    1.0     0.0    2.0      0.0   \n",
       "\n",
       "   writer  \n",
       "0     9.0  \n",
       "1   327.0  \n",
       "2    24.0  \n",
       "3     0.0  \n",
       "4     2.0  "
      ]
     },
     "execution_count": 11,
     "metadata": {},
     "output_type": "execute_result"
    }
   ],
   "source": [
    "complimentslst=[]\n",
    "for i in user_df['compliments']:\n",
    "    complimentslst.append(i)\n",
    "\n",
    "compliments=pd.DataFrame(complimentslst)\n",
    "\n",
    "fill_comp=compliments.fillna(value=0.0)\n",
    "fill_comp.head()"
   ]
  },
  {
   "cell_type": "code",
   "execution_count": 12,
   "metadata": {
    "collapsed": true
   },
   "outputs": [],
   "source": [
    "Nevada= business_df[business_df['state']=='NV']\n",
    "NVplot=pd.DataFrame(data=Nevada, columns=['latitude', 'longitude','name', 'review_count', 'stars'])"
   ]
  },
  {
   "cell_type": "markdown",
   "metadata": {},
   "source": [
    "The histogram of the Nevada business data shows the same trend as the user data. The businesses with the most reviews are in the 3.5 to 4.5 range. "
   ]
  },
  {
   "cell_type": "code",
   "execution_count": 16,
   "metadata": {
    "collapsed": false
   },
   "outputs": [
    {
     "data": {
      "text/plain": [
       "<matplotlib.axes._subplots.AxesSubplot at 0x116c96c10>"
      ]
     },
     "execution_count": 16,
     "metadata": {},
     "output_type": "execute_result"
    },
    {
     "data": {
      "image/png": "[encoded data removed]",
      "text/plain": [
       "<matplotlib.figure.Figure at 0x11a28ae10>"
      ]
     },
     "metadata": {},
     "output_type": "display_data"
    }
   ],
   "source": [
    "Nevada['stars'].hist()"
   ]
  },
  {
   "cell_type": "code",
   "execution_count": 23,
   "metadata": {
    "collapsed": false
   },
   "outputs": [
    {
     "data": {
      "text/plain": [
       "<matplotlib.collections.PathCollection at 0x11f70a350>"
      ]
     },
     "execution_count": 23,
     "metadata": {},
     "output_type": "execute_result"
    },
    {
     "data": {
      "image/png": "[encoded data removed]",
      "text/plain": [
       "<matplotlib.figure.Figure at 0x11f572e90>"
      ]
     },
     "metadata": {},
     "output_type": "display_data"
    }
   ],
   "source": [
    "plt.scatter(data=NVplot, x='stars', y='review_count')"
   ]
  },
  {
   "cell_type": "code",
   "execution_count": null,
   "metadata": {
    "collapsed": true
   },
   "outputs": [],
   "source": []
  }
 ],
 "metadata": {
  "kernelspec": {
   "display_name": "Python 2",
   "language": "python",
   "name": "python2"
  },
  "language_info": {
   "codemirror_mode": {
    "name": "ipython",
    "version": 2
   },
   "file_extension": ".py",
   "mimetype": "text/x-python",
   "name": "python",
   "nbconvert_exporter": "python",
   "pygments_lexer": "ipython2",
   "version": "2.7.12"
  }
 },
 "nbformat": 4,
 "nbformat_minor": 0
}
